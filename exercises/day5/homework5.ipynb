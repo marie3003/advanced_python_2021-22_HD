{
 "cells": [
  {
   "cell_type": "code",
   "execution_count": 1,
   "metadata": {},
   "outputs": [],
   "source": [
    "from pathlib import Path\n",
    "\n",
    "Path(\"../../proteins\").mkdir(exist_ok=True)"
   ]
  },
  {
   "cell_type": "code",
   "execution_count": 2,
   "metadata": {},
   "outputs": [
    {
     "name": "stdout",
     "output_type": "stream",
     "text": [
      "Writing ../../proteins/__init__.py\n"
     ]
    }
   ],
   "source": [
    "%%writefile ../../proteins/__init__.py\n",
    "# __init__ py is required in a folder \n",
    "# to be recognized as a python module\n",
    "# otherwise the import statements won't work\n",
    "# the %%writefile magic allows the jupyter cell content to be stored as a file\n",
    "\n",
    "# lets load core into the name space as well\n",
    "from . import basic"
   ]
  },
  {
   "cell_type": "code",
   "execution_count": 2,
   "metadata": {},
   "outputs": [
    {
     "name": "stdout",
     "output_type": "stream",
     "text": [
      "Overwriting ../../proteins/basic.py\n"
     ]
    }
   ],
   "source": [
    "#%%writefile ../../proteins/basic.py\n",
    "#\n",
    "# The first version of our function!\n",
    "# Write doc strings \n",
    "#\n"
   ]
  },
  {
   "cell_type": "code",
   "execution_count": 7,
   "metadata": {},
   "outputs": [
    {
     "name": "stdout",
     "output_type": "stream",
     "text": [
      "Writing ../../tests/test_proteins.py\n"
     ]
    }
   ],
   "source": [
    "%%writefile ../../tests/test_proteins.py\n",
    "import sys\n",
    "from pathlib import Path\n",
    "# -------- START of inconvenient addon block --------\n",
    "# This block is not necessary if you have installed your package\n",
    "# using e.g. pip install -e (requires setup.py)\n",
    "# or have a symbolic link in your sitepackages (my preferend way)\n",
    "sys.path.append(\n",
    "    str(Path(__file__).parent.parent.resolve())\n",
    ")\n",
    "# It make import peak_finder possible\n",
    "# This is a demo hack for the course :)\n",
    "# --------  END of inconvenient addon block  --------\n",
    "\n",
    "import proteins\n",
    "\n",
    "def test_find_peaks():\n",
    "    peaks = peak_finder.basic.find_peaks([0, 2, 1])\n",
    "    assert peaks == [2]"
   ]
  }
 ],
 "metadata": {
  "interpreter": {
   "hash": "6dd9bcb9fcb308fb3da563654ab13a605d97a2c3c9f12caa4b8e45b9393babba"
  },
  "kernelspec": {
   "display_name": "Python 3.9.7 64-bit ('.venv': venv)",
   "language": "python",
   "name": "python3"
  },
  "language_info": {
   "codemirror_mode": {
    "name": "ipython",
    "version": 3
   },
   "file_extension": ".py",
   "mimetype": "text/x-python",
   "name": "python",
   "nbconvert_exporter": "python",
   "pygments_lexer": "ipython3",
   "version": "3.9.7"
  },
  "orig_nbformat": 4
 },
 "nbformat": 4,
 "nbformat_minor": 2
}
