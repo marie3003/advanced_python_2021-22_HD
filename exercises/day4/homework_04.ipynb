{
 "cells": [
  {
   "cell_type": "code",
   "execution_count": 28,
   "metadata": {},
   "outputs": [
    {
     "data": {
      "text/plain": [
       "'MDIQMANNFTPPSATPQGNDCDLYAHHSTARIVMPLHYSLVFIIGLVGNLLALVVIVQNRKKINSTTLYSTNLVISDILFTTALPTRIAYYAMGFDWRIGDALCRITALVFYINTYAGVNFMTCLSIDRFIAVVHPLRYNKIKRIEHAKGVCIFVWILVFAQTLPLLINPMSKQEAERITCMEYPNFEETKSLPWILLGACFIGYVLPLIIILICYSQICCKLFRTAKQNPLTEKSGVNKKALNTIILIIVVFVLCFTPYHVAIIQHMIKKLRFSNFLECSQRHSFQISLHFTVCLMNFNCCMDPFIYFFACKGYKRKVMRMLKRQVSVSISSAVKSAPEENSREMTETQMMIHSKSSNGK'"
      ]
     },
     "execution_count": 28,
     "metadata": {},
     "output_type": "execute_result"
    }
   ],
   "source": [
    "\n",
    "            \n"
   ]
  },
  {
   "cell_type": "code",
   "execution_count": 8,
   "metadata": {},
   "outputs": [
    {
     "data": {
      "text/html": [
       "<div>\n",
       "<style scoped>\n",
       "    .dataframe tbody tr th:only-of-type {\n",
       "        vertical-align: middle;\n",
       "    }\n",
       "\n",
       "    .dataframe tbody tr th {\n",
       "        vertical-align: top;\n",
       "    }\n",
       "\n",
       "    .dataframe thead th {\n",
       "        text-align: right;\n",
       "    }\n",
       "</style>\n",
       "<table border=\"1\" class=\"dataframe\">\n",
       "  <thead>\n",
       "    <tr style=\"text-align: right;\">\n",
       "      <th></th>\n",
       "      <th>Name</th>\n",
       "      <th>3-letter code</th>\n",
       "      <th>Molecular Weight</th>\n",
       "      <th>Molecular Formula</th>\n",
       "      <th>Residue Formula</th>\n",
       "      <th>Residue Weight</th>\n",
       "      <th>pka1</th>\n",
       "      <th>pka2</th>\n",
       "      <th>pkaX</th>\n",
       "      <th>pI</th>\n",
       "      <th>hydropathy</th>\n",
       "      <th>Accessible surface</th>\n",
       "      <th>hp_type</th>\n",
       "      <th>hp_color</th>\n",
       "      <th>pk-state</th>\n",
       "    </tr>\n",
       "    <tr>\n",
       "      <th>1-letter code</th>\n",
       "      <th></th>\n",
       "      <th></th>\n",
       "      <th></th>\n",
       "      <th></th>\n",
       "      <th></th>\n",
       "      <th></th>\n",
       "      <th></th>\n",
       "      <th></th>\n",
       "      <th></th>\n",
       "      <th></th>\n",
       "      <th></th>\n",
       "      <th></th>\n",
       "      <th></th>\n",
       "      <th></th>\n",
       "      <th></th>\n",
       "    </tr>\n",
       "  </thead>\n",
       "  <tbody>\n",
       "    <tr>\n",
       "      <th>A</th>\n",
       "      <td>Alanine</td>\n",
       "      <td>Ala</td>\n",
       "      <td>89.10</td>\n",
       "      <td>C3H7NO2</td>\n",
       "      <td>C3H5NO</td>\n",
       "      <td>71.08</td>\n",
       "      <td>2.34</td>\n",
       "      <td>9.69</td>\n",
       "      <td>NaN</td>\n",
       "      <td>6.00</td>\n",
       "      <td>1.8</td>\n",
       "      <td>44.1</td>\n",
       "      <td>neutral</td>\n",
       "      <td>green</td>\n",
       "      <td>neutral</td>\n",
       "    </tr>\n",
       "    <tr>\n",
       "      <th>R</th>\n",
       "      <td>Arginine</td>\n",
       "      <td>Arg</td>\n",
       "      <td>174.20</td>\n",
       "      <td>C6H14N4O2</td>\n",
       "      <td>C6H12N4O</td>\n",
       "      <td>156.19</td>\n",
       "      <td>2.17</td>\n",
       "      <td>9.04</td>\n",
       "      <td>12.48</td>\n",
       "      <td>10.76</td>\n",
       "      <td>-4.5</td>\n",
       "      <td>159.2</td>\n",
       "      <td>hydrophilic</td>\n",
       "      <td>blue</td>\n",
       "      <td>alkine</td>\n",
       "    </tr>\n",
       "    <tr>\n",
       "      <th>N</th>\n",
       "      <td>Asparagine</td>\n",
       "      <td>Asn</td>\n",
       "      <td>132.12</td>\n",
       "      <td>C4H8N2O3</td>\n",
       "      <td>C4H6N2O2</td>\n",
       "      <td>114.11</td>\n",
       "      <td>2.02</td>\n",
       "      <td>8.80</td>\n",
       "      <td>NaN</td>\n",
       "      <td>5.41</td>\n",
       "      <td>-3.5</td>\n",
       "      <td>80.8</td>\n",
       "      <td>hydrophilic</td>\n",
       "      <td>blue</td>\n",
       "      <td>neutral</td>\n",
       "    </tr>\n",
       "    <tr>\n",
       "      <th>D</th>\n",
       "      <td>Aspartic acid</td>\n",
       "      <td>Asp</td>\n",
       "      <td>133.11</td>\n",
       "      <td>C4H7NO4</td>\n",
       "      <td>C4H5NO3</td>\n",
       "      <td>115.09</td>\n",
       "      <td>1.88</td>\n",
       "      <td>9.60</td>\n",
       "      <td>3.65</td>\n",
       "      <td>2.77</td>\n",
       "      <td>-3.5</td>\n",
       "      <td>76.3</td>\n",
       "      <td>hydrophilic</td>\n",
       "      <td>blue</td>\n",
       "      <td>acidic</td>\n",
       "    </tr>\n",
       "    <tr>\n",
       "      <th>C</th>\n",
       "      <td>Cysteine</td>\n",
       "      <td>Cys</td>\n",
       "      <td>121.16</td>\n",
       "      <td>C3H7NO2S</td>\n",
       "      <td>C3H5NOS</td>\n",
       "      <td>103.15</td>\n",
       "      <td>1.96</td>\n",
       "      <td>10.28</td>\n",
       "      <td>8.18</td>\n",
       "      <td>5.07</td>\n",
       "      <td>2.5</td>\n",
       "      <td>56.4</td>\n",
       "      <td>hydrophobic</td>\n",
       "      <td>grey</td>\n",
       "      <td>alkine</td>\n",
       "    </tr>\n",
       "    <tr>\n",
       "      <th>E</th>\n",
       "      <td>Glutamic acid</td>\n",
       "      <td>Glu</td>\n",
       "      <td>147.13</td>\n",
       "      <td>C5H9NO4</td>\n",
       "      <td>C5H7NO3</td>\n",
       "      <td>129.12</td>\n",
       "      <td>2.19</td>\n",
       "      <td>9.67</td>\n",
       "      <td>4.25</td>\n",
       "      <td>3.22</td>\n",
       "      <td>-3.5</td>\n",
       "      <td>99.2</td>\n",
       "      <td>hydrophilic</td>\n",
       "      <td>blue</td>\n",
       "      <td>acidic</td>\n",
       "    </tr>\n",
       "    <tr>\n",
       "      <th>Q</th>\n",
       "      <td>Glutamine</td>\n",
       "      <td>Gln</td>\n",
       "      <td>146.15</td>\n",
       "      <td>C5H10N2O3</td>\n",
       "      <td>C5H8N2O2</td>\n",
       "      <td>128.13</td>\n",
       "      <td>2.17</td>\n",
       "      <td>9.13</td>\n",
       "      <td>NaN</td>\n",
       "      <td>5.65</td>\n",
       "      <td>-3.5</td>\n",
       "      <td>100.6</td>\n",
       "      <td>hydrophilic</td>\n",
       "      <td>blue</td>\n",
       "      <td>neutral</td>\n",
       "    </tr>\n",
       "    <tr>\n",
       "      <th>G</th>\n",
       "      <td>Glycine</td>\n",
       "      <td>Gly</td>\n",
       "      <td>75.07</td>\n",
       "      <td>C2H5NO2</td>\n",
       "      <td>C2H3NO</td>\n",
       "      <td>57.05</td>\n",
       "      <td>2.34</td>\n",
       "      <td>9.60</td>\n",
       "      <td>NaN</td>\n",
       "      <td>5.97</td>\n",
       "      <td>-0.4</td>\n",
       "      <td>0.0</td>\n",
       "      <td>neutral</td>\n",
       "      <td>green</td>\n",
       "      <td>neutral</td>\n",
       "    </tr>\n",
       "    <tr>\n",
       "      <th>H</th>\n",
       "      <td>Histidine</td>\n",
       "      <td>His</td>\n",
       "      <td>155.16</td>\n",
       "      <td>C6H9N3O2</td>\n",
       "      <td>C6H7N3O</td>\n",
       "      <td>137.14</td>\n",
       "      <td>1.82</td>\n",
       "      <td>9.17</td>\n",
       "      <td>6.00</td>\n",
       "      <td>7.59</td>\n",
       "      <td>-3.2</td>\n",
       "      <td>98.2</td>\n",
       "      <td>hydrophilic</td>\n",
       "      <td>blue</td>\n",
       "      <td>neutral</td>\n",
       "    </tr>\n",
       "    <tr>\n",
       "      <th>I</th>\n",
       "      <td>Isoleucine</td>\n",
       "      <td>Ile</td>\n",
       "      <td>131.18</td>\n",
       "      <td>C6H13NO2</td>\n",
       "      <td>C6H11NO</td>\n",
       "      <td>113.16</td>\n",
       "      <td>2.36</td>\n",
       "      <td>9.60</td>\n",
       "      <td>NaN</td>\n",
       "      <td>6.02</td>\n",
       "      <td>4.5</td>\n",
       "      <td>90.9</td>\n",
       "      <td>hydrophobic</td>\n",
       "      <td>grey</td>\n",
       "      <td>neutral</td>\n",
       "    </tr>\n",
       "    <tr>\n",
       "      <th>L</th>\n",
       "      <td>Leucine</td>\n",
       "      <td>Leu</td>\n",
       "      <td>131.18</td>\n",
       "      <td>C6H13NO2</td>\n",
       "      <td>C6H11NO</td>\n",
       "      <td>113.16</td>\n",
       "      <td>2.36</td>\n",
       "      <td>9.60</td>\n",
       "      <td>NaN</td>\n",
       "      <td>5.98</td>\n",
       "      <td>3.8</td>\n",
       "      <td>92.8</td>\n",
       "      <td>hydrophobic</td>\n",
       "      <td>grey</td>\n",
       "      <td>neutral</td>\n",
       "    </tr>\n",
       "    <tr>\n",
       "      <th>K</th>\n",
       "      <td>Lysine</td>\n",
       "      <td>Lys</td>\n",
       "      <td>146.19</td>\n",
       "      <td>C6H14N2O2</td>\n",
       "      <td>C6H12N2O</td>\n",
       "      <td>128.18</td>\n",
       "      <td>2.18</td>\n",
       "      <td>8.95</td>\n",
       "      <td>10.53</td>\n",
       "      <td>9.74</td>\n",
       "      <td>-3.9</td>\n",
       "      <td>139.1</td>\n",
       "      <td>hydrophilic</td>\n",
       "      <td>blue</td>\n",
       "      <td>alkine</td>\n",
       "    </tr>\n",
       "    <tr>\n",
       "      <th>M</th>\n",
       "      <td>Methionine</td>\n",
       "      <td>Met</td>\n",
       "      <td>149.21</td>\n",
       "      <td>C5H11NO2S</td>\n",
       "      <td>C5H9NOS</td>\n",
       "      <td>131.20</td>\n",
       "      <td>2.28</td>\n",
       "      <td>9.21</td>\n",
       "      <td>NaN</td>\n",
       "      <td>5.74</td>\n",
       "      <td>1.9</td>\n",
       "      <td>95.3</td>\n",
       "      <td>neutral</td>\n",
       "      <td>green</td>\n",
       "      <td>neutral</td>\n",
       "    </tr>\n",
       "    <tr>\n",
       "      <th>F</th>\n",
       "      <td>Phenylalanine</td>\n",
       "      <td>Phe</td>\n",
       "      <td>165.19</td>\n",
       "      <td>C9H11NO2</td>\n",
       "      <td>C9H9NO</td>\n",
       "      <td>147.18</td>\n",
       "      <td>1.83</td>\n",
       "      <td>9.13</td>\n",
       "      <td>NaN</td>\n",
       "      <td>5.48</td>\n",
       "      <td>2.8</td>\n",
       "      <td>107.4</td>\n",
       "      <td>hydrophobic</td>\n",
       "      <td>grey</td>\n",
       "      <td>neutral</td>\n",
       "    </tr>\n",
       "    <tr>\n",
       "      <th>P</th>\n",
       "      <td>Proline</td>\n",
       "      <td>Pro</td>\n",
       "      <td>115.13</td>\n",
       "      <td>C5H9NO2</td>\n",
       "      <td>C5H7NO</td>\n",
       "      <td>97.12</td>\n",
       "      <td>1.99</td>\n",
       "      <td>10.60</td>\n",
       "      <td>NaN</td>\n",
       "      <td>6.30</td>\n",
       "      <td>-1.6</td>\n",
       "      <td>79.5</td>\n",
       "      <td>neutral</td>\n",
       "      <td>green</td>\n",
       "      <td>neutral</td>\n",
       "    </tr>\n",
       "    <tr>\n",
       "      <th>S</th>\n",
       "      <td>Serine</td>\n",
       "      <td>Ser</td>\n",
       "      <td>105.09</td>\n",
       "      <td>C3H7NO3</td>\n",
       "      <td>C3H5NO2</td>\n",
       "      <td>87.08</td>\n",
       "      <td>2.21</td>\n",
       "      <td>9.15</td>\n",
       "      <td>NaN</td>\n",
       "      <td>5.68</td>\n",
       "      <td>-0.8</td>\n",
       "      <td>57.5</td>\n",
       "      <td>neutral</td>\n",
       "      <td>green</td>\n",
       "      <td>neutral</td>\n",
       "    </tr>\n",
       "    <tr>\n",
       "      <th>T</th>\n",
       "      <td>Threonine</td>\n",
       "      <td>Thr</td>\n",
       "      <td>119.12</td>\n",
       "      <td>C4H9NO3</td>\n",
       "      <td>C4H7NO2</td>\n",
       "      <td>101.11</td>\n",
       "      <td>2.09</td>\n",
       "      <td>9.10</td>\n",
       "      <td>NaN</td>\n",
       "      <td>5.60</td>\n",
       "      <td>-0.7</td>\n",
       "      <td>73.4</td>\n",
       "      <td>neutral</td>\n",
       "      <td>green</td>\n",
       "      <td>neutral</td>\n",
       "    </tr>\n",
       "    <tr>\n",
       "      <th>W</th>\n",
       "      <td>Tryptophan</td>\n",
       "      <td>Trp</td>\n",
       "      <td>204.23</td>\n",
       "      <td>C11H12N2O2</td>\n",
       "      <td>C11H10N2O</td>\n",
       "      <td>186.22</td>\n",
       "      <td>2.83</td>\n",
       "      <td>9.39</td>\n",
       "      <td>NaN</td>\n",
       "      <td>5.89</td>\n",
       "      <td>-0.9</td>\n",
       "      <td>143.4</td>\n",
       "      <td>neutral</td>\n",
       "      <td>green</td>\n",
       "      <td>neutral</td>\n",
       "    </tr>\n",
       "    <tr>\n",
       "      <th>Y</th>\n",
       "      <td>Tyrosine</td>\n",
       "      <td>Tyr</td>\n",
       "      <td>181.19</td>\n",
       "      <td>C9H11NO3</td>\n",
       "      <td>C9H9NO2</td>\n",
       "      <td>163.18</td>\n",
       "      <td>2.20</td>\n",
       "      <td>9.11</td>\n",
       "      <td>10.07</td>\n",
       "      <td>5.66</td>\n",
       "      <td>-1.3</td>\n",
       "      <td>119.1</td>\n",
       "      <td>neutral</td>\n",
       "      <td>green</td>\n",
       "      <td>alkine</td>\n",
       "    </tr>\n",
       "    <tr>\n",
       "      <th>V</th>\n",
       "      <td>Valine</td>\n",
       "      <td>Val</td>\n",
       "      <td>117.15</td>\n",
       "      <td>C5H11NO2</td>\n",
       "      <td>C5H9NO</td>\n",
       "      <td>99.13</td>\n",
       "      <td>2.32</td>\n",
       "      <td>9.62</td>\n",
       "      <td>NaN</td>\n",
       "      <td>5.96</td>\n",
       "      <td>4.2</td>\n",
       "      <td>73.0</td>\n",
       "      <td>hydrophobic</td>\n",
       "      <td>grey</td>\n",
       "      <td>neutral</td>\n",
       "    </tr>\n",
       "  </tbody>\n",
       "</table>\n",
       "</div>"
      ],
      "text/plain": [
       "                        Name 3-letter code  Molecular Weight  \\\n",
       "1-letter code                                                  \n",
       "A                    Alanine           Ala             89.10   \n",
       "R                   Arginine           Arg            174.20   \n",
       "N                 Asparagine           Asn            132.12   \n",
       "D              Aspartic acid           Asp            133.11   \n",
       "C                   Cysteine           Cys            121.16   \n",
       "E              Glutamic acid           Glu            147.13   \n",
       "Q                  Glutamine           Gln            146.15   \n",
       "G                    Glycine           Gly             75.07   \n",
       "H                  Histidine           His            155.16   \n",
       "I                 Isoleucine           Ile            131.18   \n",
       "L                    Leucine           Leu            131.18   \n",
       "K                     Lysine           Lys            146.19   \n",
       "M                 Methionine           Met            149.21   \n",
       "F              Phenylalanine           Phe            165.19   \n",
       "P                    Proline           Pro            115.13   \n",
       "S                     Serine           Ser            105.09   \n",
       "T                  Threonine           Thr            119.12   \n",
       "W                 Tryptophan           Trp            204.23   \n",
       "Y                   Tyrosine           Tyr            181.19   \n",
       "V                     Valine           Val            117.15   \n",
       "\n",
       "              Molecular Formula Residue Formula  Residue Weight  pka1   pka2  \\\n",
       "1-letter code                                                                  \n",
       "A                       C3H7NO2          C3H5NO           71.08  2.34   9.69   \n",
       "R                     C6H14N4O2        C6H12N4O          156.19  2.17   9.04   \n",
       "N                      C4H8N2O3        C4H6N2O2          114.11  2.02   8.80   \n",
       "D                       C4H7NO4         C4H5NO3          115.09  1.88   9.60   \n",
       "C                      C3H7NO2S         C3H5NOS          103.15  1.96  10.28   \n",
       "E                       C5H9NO4         C5H7NO3          129.12  2.19   9.67   \n",
       "Q                     C5H10N2O3        C5H8N2O2          128.13  2.17   9.13   \n",
       "G                       C2H5NO2          C2H3NO           57.05  2.34   9.60   \n",
       "H                      C6H9N3O2         C6H7N3O          137.14  1.82   9.17   \n",
       "I                      C6H13NO2         C6H11NO          113.16  2.36   9.60   \n",
       "L                      C6H13NO2         C6H11NO          113.16  2.36   9.60   \n",
       "K                     C6H14N2O2        C6H12N2O          128.18  2.18   8.95   \n",
       "M                     C5H11NO2S         C5H9NOS          131.20  2.28   9.21   \n",
       "F                      C9H11NO2          C9H9NO          147.18  1.83   9.13   \n",
       "P                       C5H9NO2          C5H7NO           97.12  1.99  10.60   \n",
       "S                       C3H7NO3         C3H5NO2           87.08  2.21   9.15   \n",
       "T                       C4H9NO3         C4H7NO2          101.11  2.09   9.10   \n",
       "W                    C11H12N2O2       C11H10N2O          186.22  2.83   9.39   \n",
       "Y                      C9H11NO3         C9H9NO2          163.18  2.20   9.11   \n",
       "V                      C5H11NO2          C5H9NO           99.13  2.32   9.62   \n",
       "\n",
       "                pkaX     pI  hydropathy  Accessible surface      hp_type  \\\n",
       "1-letter code                                                              \n",
       "A                NaN   6.00         1.8                44.1      neutral   \n",
       "R              12.48  10.76        -4.5               159.2  hydrophilic   \n",
       "N                NaN   5.41        -3.5                80.8  hydrophilic   \n",
       "D               3.65   2.77        -3.5                76.3  hydrophilic   \n",
       "C               8.18   5.07         2.5                56.4  hydrophobic   \n",
       "E               4.25   3.22        -3.5                99.2  hydrophilic   \n",
       "Q                NaN   5.65        -3.5               100.6  hydrophilic   \n",
       "G                NaN   5.97        -0.4                 0.0      neutral   \n",
       "H               6.00   7.59        -3.2                98.2  hydrophilic   \n",
       "I                NaN   6.02         4.5                90.9  hydrophobic   \n",
       "L                NaN   5.98         3.8                92.8  hydrophobic   \n",
       "K              10.53   9.74        -3.9               139.1  hydrophilic   \n",
       "M                NaN   5.74         1.9                95.3      neutral   \n",
       "F                NaN   5.48         2.8               107.4  hydrophobic   \n",
       "P                NaN   6.30        -1.6                79.5      neutral   \n",
       "S                NaN   5.68        -0.8                57.5      neutral   \n",
       "T                NaN   5.60        -0.7                73.4      neutral   \n",
       "W                NaN   5.89        -0.9               143.4      neutral   \n",
       "Y              10.07   5.66        -1.3               119.1      neutral   \n",
       "V                NaN   5.96         4.2                73.0  hydrophobic   \n",
       "\n",
       "              hp_color pk-state  \n",
       "1-letter code                    \n",
       "A                green  neutral  \n",
       "R                 blue   alkine  \n",
       "N                 blue  neutral  \n",
       "D                 blue   acidic  \n",
       "C                 grey   alkine  \n",
       "E                 blue   acidic  \n",
       "Q                 blue  neutral  \n",
       "G                green  neutral  \n",
       "H                 blue  neutral  \n",
       "I                 grey  neutral  \n",
       "L                 grey  neutral  \n",
       "K                 blue   alkine  \n",
       "M                green  neutral  \n",
       "F                 grey  neutral  \n",
       "P                green  neutral  \n",
       "S                green  neutral  \n",
       "T                green  neutral  \n",
       "W                green  neutral  \n",
       "Y                green   alkine  \n",
       "V                 grey  neutral  "
      ]
     },
     "execution_count": 8,
     "metadata": {},
     "output_type": "execute_result"
    }
   ],
   "source": [
    "import pandas as pd\n",
    "aa_properties = pd.read_csv(\"../../data/amino_acid_properties.csv\")\n",
    "aa_properties = aa_properties.rename(columns ={'hydropathy index (Kyte-Doolittle method)': 'hydropathy'})\n",
    "#aa_properties = aa_properties[['1-letter code', 'pI','hydropathy']]\n",
    "#aa_properties = aa_properties.drop(columns = aa_properties.columns[2:10])\n",
    "aa_properties = aa_properties.set_index('1-letter code')\n",
    "metrics = aa_properties.to_dict('dict')\n",
    "aa_properties\n"
   ]
  },
  {
   "cell_type": "code",
   "execution_count": 47,
   "metadata": {},
   "outputs": [
    {
     "data": {
      "text/plain": [
       "'MDIQMANNFTPPSATPQGNDCDLYAHHSTARIVMPLHYSLVFIIGLVGNLLALVVIVQNRKKINSTTLYSTNLVISDILFTTALPTRIAYYAMGFDWRIGDALCRITALVFYINTYAGVNFMTCLSIDRFIAVVHPLRYNKIKRIEHAKGVCIFVWILVFAQTLPLLINPMSKQEAERITCMEYPNFEETKSLPWILLGACFIGYVLPLIIILICYSQICCKLFRTAKQNPLTEKSGVNKKALNTIILIIVVFVLCFTPYHVAIIQHMIKKLRFSNFLECSQRHSFQISLHFTVCLMNFNCCMDPFIYFFACKGYKRKVMRMLKRQVSVSISSAVKSAPEENSREMTETQMMIHSKSSNGK'"
      ]
     },
     "execution_count": 47,
     "metadata": {},
     "output_type": "execute_result"
    }
   ],
   "source": [
    "protein_s = ''\n",
    "with open ('gprot.fasta', 'r') as f:\n",
    "    next(f)\n",
    "    for line in f:\n",
    "        line = line.strip()\n",
    "        protein_s += line\n",
    "protein_s"
   ]
  },
  {
   "cell_type": "code",
   "execution_count": 56,
   "metadata": {},
   "outputs": [],
   "source": [
    "import pandas as pd\n",
    "import numpy as np\n",
    "import plotly.graph_objects as go\n",
    "from collections import deque\n",
    "\n",
    "class Protein:\n",
    "\n",
    "    aa_properties = pd.read_csv(\"../../data/amino_acid_properties.csv\")\n",
    "    aa_properties = aa_properties.rename(columns ={'hydropathy index (Kyte-Doolittle method)': 'hydropathy'})\n",
    "    aa_properties = aa_properties[['1-letter code', 'pI','hydropathy']]\n",
    "    aa_properties = aa_properties.set_index('1-letter code')\n",
    "    metrics = aa_properties.to_dict('dict')\n",
    "    \n",
    "    def __init__(self, name, sequence):\n",
    "        self.sequence = sequence\n",
    "        self.name = name\n",
    "    \n",
    "    def plot(self, metric =\"hydropathy\", window_size = 5):\n",
    "        sequence_l = list(self.sequence)\n",
    "        metric_values = []\n",
    "        for aa in list(sequence_l):\n",
    "            metric_values.append(metrics[metric][aa])\n",
    "        pos = list(np.arange(len(sequence_l)))\n",
    "        window = deque([], maxlen = window_size)\n",
    "        mean_values = []\n",
    "        for metric_value in metric_values:\n",
    "            window.append(metric_value)\n",
    "            mean_values.append(np.mean(window))\n",
    "        data = [\n",
    "            go.Bar(\n",
    "                x=pos,\n",
    "                y=mean_values,\n",
    "            )\n",
    "        ]\n",
    "\n",
    "        fig = go.Figure(data=data)\n",
    "        fig.update_layout(template=\"plotly_dark\", title=\"{} of protein {}\".format(metric, self.name))\n",
    "        fig.show()\n",
    "        \n",
    "\n",
    "        \n"
   ]
  },
  {
   "cell_type": "code",
   "execution_count": 57,
   "metadata": {},
   "outputs": [
    {
     "data": {
      "application/vnd.plotly.v1+json": {
       "config": {
        "plotlyServerURL": "https://plot.ly"
       },
       "data": [
        {
         "type": "bar",
         "x": [
          0,
          1,
          2,
          3,
          4,
          5,
          6,
          7,
          8,
          9,
          10,
          11,
          12,
          13,
          14,
          15,
          16,
          17,
          18,
          19,
          20,
          21,
          22,
          23,
          24,
          25,
          26,
          27,
          28,
          29,
          30,
          31,
          32,
          33,
          34,
          35,
          36,
          37,
          38,
          39,
          40,
          41,
          42,
          43,
          44,
          45,
          46,
          47,
          48,
          49,
          50,
          51,
          52,
          53,
          54,
          55,
          56,
          57,
          58,
          59,
          60,
          61,
          62,
          63,
          64,
          65,
          66,
          67,
          68,
          69,
          70,
          71,
          72,
          73,
          74,
          75,
          76,
          77,
          78,
          79,
          80,
          81,
          82,
          83,
          84,
          85,
          86,
          87,
          88,
          89,
          90,
          91,
          92,
          93,
          94,
          95,
          96,
          97,
          98,
          99,
          100,
          101,
          102,
          103,
          104,
          105,
          106,
          107,
          108,
          109,
          110,
          111,
          112,
          113,
          114,
          115,
          116,
          117,
          118,
          119,
          120,
          121,
          122,
          123,
          124,
          125,
          126,
          127,
          128,
          129,
          130,
          131,
          132,
          133,
          134,
          135,
          136,
          137,
          138,
          139,
          140,
          141,
          142,
          143,
          144,
          145,
          146,
          147,
          148,
          149,
          150,
          151,
          152,
          153,
          154,
          155,
          156,
          157,
          158,
          159,
          160,
          161,
          162,
          163,
          164,
          165,
          166,
          167,
          168,
          169,
          170,
          171,
          172,
          173,
          174,
          175,
          176,
          177,
          178,
          179,
          180,
          181,
          182,
          183,
          184,
          185,
          186,
          187,
          188,
          189,
          190,
          191,
          192,
          193,
          194,
          195,
          196,
          197,
          198,
          199,
          200,
          201,
          202,
          203,
          204,
          205,
          206,
          207,
          208,
          209,
          210,
          211,
          212,
          213,
          214,
          215,
          216,
          217,
          218,
          219,
          220,
          221,
          222,
          223,
          224,
          225,
          226,
          227,
          228,
          229,
          230,
          231,
          232,
          233,
          234,
          235,
          236,
          237,
          238,
          239,
          240,
          241,
          242,
          243,
          244,
          245,
          246,
          247,
          248,
          249,
          250,
          251,
          252,
          253,
          254,
          255,
          256,
          257,
          258,
          259,
          260,
          261,
          262,
          263,
          264,
          265,
          266,
          267,
          268,
          269,
          270,
          271,
          272,
          273,
          274,
          275,
          276,
          277,
          278,
          279,
          280,
          281,
          282,
          283,
          284,
          285,
          286,
          287,
          288,
          289,
          290,
          291,
          292,
          293,
          294,
          295,
          296,
          297,
          298,
          299,
          300,
          301,
          302,
          303,
          304,
          305,
          306,
          307,
          308,
          309,
          310,
          311,
          312,
          313,
          314,
          315,
          316,
          317,
          318,
          319,
          320,
          321,
          322,
          323,
          324,
          325,
          326,
          327,
          328,
          329,
          330,
          331,
          332,
          333,
          334,
          335,
          336,
          337,
          338,
          339,
          340,
          341,
          342,
          343,
          344,
          345,
          346,
          347,
          348,
          349,
          350,
          351,
          352,
          353,
          354,
          355,
          356,
          357,
          358,
          359,
          360
         ],
         "y": [
          1.9,
          -0.8,
          0.9666666666666667,
          -0.15000000000000002,
          0.25999999999999995,
          0.24,
          0.24000000000000005,
          -1.3599999999999999,
          -0.1,
          -0.6200000000000001,
          -1.3,
          -0.9199999999999999,
          -0.3800000000000001,
          -0.5800000000000001,
          -0.5800000000000001,
          -0.5800000000000001,
          -0.96,
          -0.8800000000000001,
          -1.94,
          -2.5,
          -1.6800000000000002,
          -1.6800000000000002,
          -0.8400000000000001,
          -0.4,
          0.6599999999999999,
          -0.4800000000000001,
          -0.4200000000000001,
          -1.34,
          -1.2200000000000002,
          -1.2200000000000002,
          -1.48,
          0.05999999999999996,
          1.06,
          1.58,
          0.9,
          2.56,
          1.02,
          -0.08000000000000011,
          -0.6200000000000001,
          0.45999999999999985,
          0.54,
          1.7399999999999998,
          2.9,
          3.96,
          3.12,
          3.04,
          3.3199999999999994,
          2.34,
          0.7399999999999999,
          1.5799999999999998,
          1.5799999999999998,
          1.1,
          1.94,
          3.4799999999999995,
          3.5599999999999996,
          3.7,
          4.18,
          2.72,
          1.1799999999999997,
          -0.5600000000000002,
          -2.2399999999999998,
          -3.8600000000000003,
          -2.2600000000000002,
          -2.2600000000000002,
          -1.52,
          -0.8800000000000001,
          -0.24,
          -0.38000000000000006,
          0.05999999999999992,
          0.05999999999999996,
          0.05999999999999992,
          -0.5,
          -0.5,
          0.6,
          1.6600000000000001,
          1.64,
          1.64,
          1.7799999999999998,
          1.7,
          1.3599999999999999,
          1.38,
          1.9400000000000006,
          1.4,
          1.4,
          0.52,
          0.5200000000000001,
          -0.24000000000000005,
          0.3,
          -0.09999999999999995,
          -0.040000000000000036,
          -0.16,
          1.1,
          0.58,
          0.13999999999999996,
          0.96,
          0.5199999999999999,
          -0.02000000000000004,
          -1.3,
          -0.31999999999999995,
          -0.9600000000000002,
          -0.9600000000000002,
          -0.41999999999999993,
          1.2399999999999998,
          0.8400000000000001,
          0.019999999999999928,
          1.6199999999999999,
          1.1199999999999999,
          0.72,
          0.9800000000000001,
          2.7199999999999998,
          2.3800000000000003,
          2.2600000000000002,
          2.8,
          1.3399999999999999,
          0.36,
          -0.45999999999999996,
          0.16,
          -0.8200000000000001,
          0.72,
          0.15999999999999998,
          0.9799999999999999,
          1,
          0.9400000000000001,
          0.6,
          2.0599999999999996,
          1.34,
          1.86,
          1.3,
          -0.1,
          -0.3,
          0.76,
          0.21999999999999997,
          1.7600000000000002,
          3.5,
          2.3,
          1.0799999999999996,
          1.48,
          -0.26000000000000006,
          -1.36,
          -1.4200000000000002,
          -1.8800000000000001,
          -1.7400000000000002,
          -1.6199999999999999,
          -2.2600000000000002,
          -0.6599999999999999,
          -0.58,
          -2.12,
          -0.9800000000000001,
          -0.86,
          -1.8400000000000003,
          -0.3,
          0.8400000000000002,
          1.3800000000000001,
          2.72,
          3.6399999999999997,
          2.62,
          3.02,
          2.88,
          3.16,
          2.8800000000000003,
          3.4200000000000004,
          1.8200000000000003,
          0.9200000000000002,
          0.8399999999999999,
          -0.040000000000000036,
          0.3599999999999999,
          1.8199999999999996,
          2.8600000000000003,
          1.4,
          1.4,
          1.02,
          0.09999999999999995,
          -1.58,
          -1.58,
          -1.9600000000000002,
          -1.9799999999999998,
          -2.52,
          -2.6399999999999997,
          -1.0399999999999998,
          -0.4800000000000001,
          -0.34,
          0.74,
          0.9399999999999998,
          -0.21999999999999997,
          -0.39999999999999997,
          -1.6,
          -1.4200000000000002,
          -1.4200000000000002,
          -1.86,
          -1.6800000000000002,
          -1.7600000000000002,
          -2.48,
          -1.02,
          -0.6399999999999999,
          -0.68,
          1,
          1.92,
          1.92,
          2.1599999999999997,
          2.7,
          2.3,
          2.1,
          2.2399999999999998,
          2.2399999999999998,
          1.6199999999999999,
          1.9600000000000002,
          2.16,
          0.9399999999999998,
          1.7799999999999998,
          2.94,
          3,
          3.1399999999999997,
          4.220000000000001,
          4.36,
          3.96,
          2.8,
          1.7399999999999998,
          0.2800000000000001,
          0.27999999999999997,
          0.2800000000000001,
          1.04,
          0.42000000000000004,
          1.8799999999999997,
          1.54,
          0.13999999999999985,
          -0.5,
          0.6399999999999999,
          -0.9,
          -2.16,
          -1.9600000000000002,
          -2.1399999999999997,
          -1.7399999999999998,
          -1.1,
          -1.1,
          -1.1800000000000002,
          -1.02,
          -1.86,
          -0.8800000000000002,
          -0.8800000000000001,
          -0.8800000000000001,
          -1.5,
          -1.06,
          -1.1400000000000001,
          -1.1400000000000001,
          -0.5,
          1.18,
          1.72,
          1.72,
          3.3200000000000003,
          4.36,
          4.3,
          4.24,
          4.04,
          3.9799999999999995,
          3.84,
          3.5,
          3.22,
          2.5200000000000005,
          1.36,
          0.3399999999999999,
          -0.8000000000000002,
          -0.5199999999999999,
          -0.020000000000000063,
          1.2,
          2.3600000000000003,
          2.3,
          0.8200000000000001,
          0.8399999999999999,
          0.8399999999999999,
          -0.8400000000000002,
          -0.9199999999999999,
          0.4800000000000001,
          -0.8,
          -1.1400000000000001,
          -0.5199999999999999,
          -0.44000000000000006,
          -0.64,
          1.02,
          -0.24000000000000005,
          0.41999999999999993,
          0.96,
          -0.30000000000000004,
          -1.9600000000000002,
          -1.9,
          -2.56,
          -1.8399999999999999,
          -1.8399999999999999,
          -0.040000000000000036,
          0.44000000000000006,
          1.3599999999999999,
          0.15999999999999998,
          1.42,
          0.37999999999999995,
          1.38,
          1.1199999999999999,
          2.5200000000000005,
          2.3400000000000003,
          1.78,
          1.4999999999999998,
          0.2999999999999998,
          0.039999999999999945,
          0.15999999999999998,
          1.2399999999999998,
          -0.020000000000000018,
          0.36000000000000004,
          0.42000000000000004,
          0.82,
          0.18000000000000002,
          1.44,
          2.3200000000000003,
          2.12,
          1.72,
          1.1999999999999997,
          0.5599999999999999,
          -0.26000000000000006,
          -1.4,
          -2.8,
          -2.8,
          -1.8799999999999997,
          -1.2400000000000002,
          -1.36,
          -0.07999999999999999,
          1.4599999999999997,
          -0.16000000000000006,
          -1.44,
          -1.2400000000000002,
          -0.7799999999999999,
          -1.7,
          -0.07999999999999989,
          0.6600000000000001,
          2.2600000000000002,
          1.2600000000000002,
          1.2600000000000002,
          0.78,
          1.78,
          0.10000000000000009,
          0.10000000000000005,
          0.62,
          -0.05999999999999996,
          -1.6,
          -1.52,
          -2.06,
          -2.58,
          -3.16,
          -3.16,
          -2.08,
          -1.52,
          -2.06,
          -1.3,
          -1.3,
          -1.3,
          -0.7800000000000001,
          0.82,
          0.31999999999999995,
          0.8600000000000001,
          -0.29999999999999993,
          -0.8400000000000001,
          -1.9000000000000004,
          -1.9600000000000002,
          -1.8800000000000001,
          -1.8800000000000001
         ]
        }
       ],
       "layout": {
        "template": {
         "data": {
          "bar": [
           {
            "error_x": {
             "color": "#f2f5fa"
            },
            "error_y": {
             "color": "#f2f5fa"
            },
            "marker": {
             "line": {
              "color": "rgb(17,17,17)",
              "width": 0.5
             },
             "pattern": {
              "fillmode": "overlay",
              "size": 10,
              "solidity": 0.2
             }
            },
            "type": "bar"
           }
          ],
          "barpolar": [
           {
            "marker": {
             "line": {
              "color": "rgb(17,17,17)",
              "width": 0.5
             },
             "pattern": {
              "fillmode": "overlay",
              "size": 10,
              "solidity": 0.2
             }
            },
            "type": "barpolar"
           }
          ],
          "carpet": [
           {
            "aaxis": {
             "endlinecolor": "#A2B1C6",
             "gridcolor": "#506784",
             "linecolor": "#506784",
             "minorgridcolor": "#506784",
             "startlinecolor": "#A2B1C6"
            },
            "baxis": {
             "endlinecolor": "#A2B1C6",
             "gridcolor": "#506784",
             "linecolor": "#506784",
             "minorgridcolor": "#506784",
             "startlinecolor": "#A2B1C6"
            },
            "type": "carpet"
           }
          ],
          "choropleth": [
           {
            "colorbar": {
             "outlinewidth": 0,
             "ticks": ""
            },
            "type": "choropleth"
           }
          ],
          "contour": [
           {
            "colorbar": {
             "outlinewidth": 0,
             "ticks": ""
            },
            "colorscale": [
             [
              0,
              "#0d0887"
             ],
             [
              0.1111111111111111,
              "#46039f"
             ],
             [
              0.2222222222222222,
              "#7201a8"
             ],
             [
              0.3333333333333333,
              "#9c179e"
             ],
             [
              0.4444444444444444,
              "#bd3786"
             ],
             [
              0.5555555555555556,
              "#d8576b"
             ],
             [
              0.6666666666666666,
              "#ed7953"
             ],
             [
              0.7777777777777778,
              "#fb9f3a"
             ],
             [
              0.8888888888888888,
              "#fdca26"
             ],
             [
              1,
              "#f0f921"
             ]
            ],
            "type": "contour"
           }
          ],
          "contourcarpet": [
           {
            "colorbar": {
             "outlinewidth": 0,
             "ticks": ""
            },
            "type": "contourcarpet"
           }
          ],
          "heatmap": [
           {
            "colorbar": {
             "outlinewidth": 0,
             "ticks": ""
            },
            "colorscale": [
             [
              0,
              "#0d0887"
             ],
             [
              0.1111111111111111,
              "#46039f"
             ],
             [
              0.2222222222222222,
              "#7201a8"
             ],
             [
              0.3333333333333333,
              "#9c179e"
             ],
             [
              0.4444444444444444,
              "#bd3786"
             ],
             [
              0.5555555555555556,
              "#d8576b"
             ],
             [
              0.6666666666666666,
              "#ed7953"
             ],
             [
              0.7777777777777778,
              "#fb9f3a"
             ],
             [
              0.8888888888888888,
              "#fdca26"
             ],
             [
              1,
              "#f0f921"
             ]
            ],
            "type": "heatmap"
           }
          ],
          "heatmapgl": [
           {
            "colorbar": {
             "outlinewidth": 0,
             "ticks": ""
            },
            "colorscale": [
             [
              0,
              "#0d0887"
             ],
             [
              0.1111111111111111,
              "#46039f"
             ],
             [
              0.2222222222222222,
              "#7201a8"
             ],
             [
              0.3333333333333333,
              "#9c179e"
             ],
             [
              0.4444444444444444,
              "#bd3786"
             ],
             [
              0.5555555555555556,
              "#d8576b"
             ],
             [
              0.6666666666666666,
              "#ed7953"
             ],
             [
              0.7777777777777778,
              "#fb9f3a"
             ],
             [
              0.8888888888888888,
              "#fdca26"
             ],
             [
              1,
              "#f0f921"
             ]
            ],
            "type": "heatmapgl"
           }
          ],
          "histogram": [
           {
            "marker": {
             "pattern": {
              "fillmode": "overlay",
              "size": 10,
              "solidity": 0.2
             }
            },
            "type": "histogram"
           }
          ],
          "histogram2d": [
           {
            "colorbar": {
             "outlinewidth": 0,
             "ticks": ""
            },
            "colorscale": [
             [
              0,
              "#0d0887"
             ],
             [
              0.1111111111111111,
              "#46039f"
             ],
             [
              0.2222222222222222,
              "#7201a8"
             ],
             [
              0.3333333333333333,
              "#9c179e"
             ],
             [
              0.4444444444444444,
              "#bd3786"
             ],
             [
              0.5555555555555556,
              "#d8576b"
             ],
             [
              0.6666666666666666,
              "#ed7953"
             ],
             [
              0.7777777777777778,
              "#fb9f3a"
             ],
             [
              0.8888888888888888,
              "#fdca26"
             ],
             [
              1,
              "#f0f921"
             ]
            ],
            "type": "histogram2d"
           }
          ],
          "histogram2dcontour": [
           {
            "colorbar": {
             "outlinewidth": 0,
             "ticks": ""
            },
            "colorscale": [
             [
              0,
              "#0d0887"
             ],
             [
              0.1111111111111111,
              "#46039f"
             ],
             [
              0.2222222222222222,
              "#7201a8"
             ],
             [
              0.3333333333333333,
              "#9c179e"
             ],
             [
              0.4444444444444444,
              "#bd3786"
             ],
             [
              0.5555555555555556,
              "#d8576b"
             ],
             [
              0.6666666666666666,
              "#ed7953"
             ],
             [
              0.7777777777777778,
              "#fb9f3a"
             ],
             [
              0.8888888888888888,
              "#fdca26"
             ],
             [
              1,
              "#f0f921"
             ]
            ],
            "type": "histogram2dcontour"
           }
          ],
          "mesh3d": [
           {
            "colorbar": {
             "outlinewidth": 0,
             "ticks": ""
            },
            "type": "mesh3d"
           }
          ],
          "parcoords": [
           {
            "line": {
             "colorbar": {
              "outlinewidth": 0,
              "ticks": ""
             }
            },
            "type": "parcoords"
           }
          ],
          "pie": [
           {
            "automargin": true,
            "type": "pie"
           }
          ],
          "scatter": [
           {
            "marker": {
             "line": {
              "color": "#283442"
             }
            },
            "type": "scatter"
           }
          ],
          "scatter3d": [
           {
            "line": {
             "colorbar": {
              "outlinewidth": 0,
              "ticks": ""
             }
            },
            "marker": {
             "colorbar": {
              "outlinewidth": 0,
              "ticks": ""
             }
            },
            "type": "scatter3d"
           }
          ],
          "scattercarpet": [
           {
            "marker": {
             "colorbar": {
              "outlinewidth": 0,
              "ticks": ""
             }
            },
            "type": "scattercarpet"
           }
          ],
          "scattergeo": [
           {
            "marker": {
             "colorbar": {
              "outlinewidth": 0,
              "ticks": ""
             }
            },
            "type": "scattergeo"
           }
          ],
          "scattergl": [
           {
            "marker": {
             "line": {
              "color": "#283442"
             }
            },
            "type": "scattergl"
           }
          ],
          "scattermapbox": [
           {
            "marker": {
             "colorbar": {
              "outlinewidth": 0,
              "ticks": ""
             }
            },
            "type": "scattermapbox"
           }
          ],
          "scatterpolar": [
           {
            "marker": {
             "colorbar": {
              "outlinewidth": 0,
              "ticks": ""
             }
            },
            "type": "scatterpolar"
           }
          ],
          "scatterpolargl": [
           {
            "marker": {
             "colorbar": {
              "outlinewidth": 0,
              "ticks": ""
             }
            },
            "type": "scatterpolargl"
           }
          ],
          "scatterternary": [
           {
            "marker": {
             "colorbar": {
              "outlinewidth": 0,
              "ticks": ""
             }
            },
            "type": "scatterternary"
           }
          ],
          "surface": [
           {
            "colorbar": {
             "outlinewidth": 0,
             "ticks": ""
            },
            "colorscale": [
             [
              0,
              "#0d0887"
             ],
             [
              0.1111111111111111,
              "#46039f"
             ],
             [
              0.2222222222222222,
              "#7201a8"
             ],
             [
              0.3333333333333333,
              "#9c179e"
             ],
             [
              0.4444444444444444,
              "#bd3786"
             ],
             [
              0.5555555555555556,
              "#d8576b"
             ],
             [
              0.6666666666666666,
              "#ed7953"
             ],
             [
              0.7777777777777778,
              "#fb9f3a"
             ],
             [
              0.8888888888888888,
              "#fdca26"
             ],
             [
              1,
              "#f0f921"
             ]
            ],
            "type": "surface"
           }
          ],
          "table": [
           {
            "cells": {
             "fill": {
              "color": "#506784"
             },
             "line": {
              "color": "rgb(17,17,17)"
             }
            },
            "header": {
             "fill": {
              "color": "#2a3f5f"
             },
             "line": {
              "color": "rgb(17,17,17)"
             }
            },
            "type": "table"
           }
          ]
         },
         "layout": {
          "annotationdefaults": {
           "arrowcolor": "#f2f5fa",
           "arrowhead": 0,
           "arrowwidth": 1
          },
          "autotypenumbers": "strict",
          "coloraxis": {
           "colorbar": {
            "outlinewidth": 0,
            "ticks": ""
           }
          },
          "colorscale": {
           "diverging": [
            [
             0,
             "#8e0152"
            ],
            [
             0.1,
             "#c51b7d"
            ],
            [
             0.2,
             "#de77ae"
            ],
            [
             0.3,
             "#f1b6da"
            ],
            [
             0.4,
             "#fde0ef"
            ],
            [
             0.5,
             "#f7f7f7"
            ],
            [
             0.6,
             "#e6f5d0"
            ],
            [
             0.7,
             "#b8e186"
            ],
            [
             0.8,
             "#7fbc41"
            ],
            [
             0.9,
             "#4d9221"
            ],
            [
             1,
             "#276419"
            ]
           ],
           "sequential": [
            [
             0,
             "#0d0887"
            ],
            [
             0.1111111111111111,
             "#46039f"
            ],
            [
             0.2222222222222222,
             "#7201a8"
            ],
            [
             0.3333333333333333,
             "#9c179e"
            ],
            [
             0.4444444444444444,
             "#bd3786"
            ],
            [
             0.5555555555555556,
             "#d8576b"
            ],
            [
             0.6666666666666666,
             "#ed7953"
            ],
            [
             0.7777777777777778,
             "#fb9f3a"
            ],
            [
             0.8888888888888888,
             "#fdca26"
            ],
            [
             1,
             "#f0f921"
            ]
           ],
           "sequentialminus": [
            [
             0,
             "#0d0887"
            ],
            [
             0.1111111111111111,
             "#46039f"
            ],
            [
             0.2222222222222222,
             "#7201a8"
            ],
            [
             0.3333333333333333,
             "#9c179e"
            ],
            [
             0.4444444444444444,
             "#bd3786"
            ],
            [
             0.5555555555555556,
             "#d8576b"
            ],
            [
             0.6666666666666666,
             "#ed7953"
            ],
            [
             0.7777777777777778,
             "#fb9f3a"
            ],
            [
             0.8888888888888888,
             "#fdca26"
            ],
            [
             1,
             "#f0f921"
            ]
           ]
          },
          "colorway": [
           "#636efa",
           "#EF553B",
           "#00cc96",
           "#ab63fa",
           "#FFA15A",
           "#19d3f3",
           "#FF6692",
           "#B6E880",
           "#FF97FF",
           "#FECB52"
          ],
          "font": {
           "color": "#f2f5fa"
          },
          "geo": {
           "bgcolor": "rgb(17,17,17)",
           "lakecolor": "rgb(17,17,17)",
           "landcolor": "rgb(17,17,17)",
           "showlakes": true,
           "showland": true,
           "subunitcolor": "#506784"
          },
          "hoverlabel": {
           "align": "left"
          },
          "hovermode": "closest",
          "mapbox": {
           "style": "dark"
          },
          "paper_bgcolor": "rgb(17,17,17)",
          "plot_bgcolor": "rgb(17,17,17)",
          "polar": {
           "angularaxis": {
            "gridcolor": "#506784",
            "linecolor": "#506784",
            "ticks": ""
           },
           "bgcolor": "rgb(17,17,17)",
           "radialaxis": {
            "gridcolor": "#506784",
            "linecolor": "#506784",
            "ticks": ""
           }
          },
          "scene": {
           "xaxis": {
            "backgroundcolor": "rgb(17,17,17)",
            "gridcolor": "#506784",
            "gridwidth": 2,
            "linecolor": "#506784",
            "showbackground": true,
            "ticks": "",
            "zerolinecolor": "#C8D4E3"
           },
           "yaxis": {
            "backgroundcolor": "rgb(17,17,17)",
            "gridcolor": "#506784",
            "gridwidth": 2,
            "linecolor": "#506784",
            "showbackground": true,
            "ticks": "",
            "zerolinecolor": "#C8D4E3"
           },
           "zaxis": {
            "backgroundcolor": "rgb(17,17,17)",
            "gridcolor": "#506784",
            "gridwidth": 2,
            "linecolor": "#506784",
            "showbackground": true,
            "ticks": "",
            "zerolinecolor": "#C8D4E3"
           }
          },
          "shapedefaults": {
           "line": {
            "color": "#f2f5fa"
           }
          },
          "sliderdefaults": {
           "bgcolor": "#C8D4E3",
           "bordercolor": "rgb(17,17,17)",
           "borderwidth": 1,
           "tickwidth": 0
          },
          "ternary": {
           "aaxis": {
            "gridcolor": "#506784",
            "linecolor": "#506784",
            "ticks": ""
           },
           "baxis": {
            "gridcolor": "#506784",
            "linecolor": "#506784",
            "ticks": ""
           },
           "bgcolor": "rgb(17,17,17)",
           "caxis": {
            "gridcolor": "#506784",
            "linecolor": "#506784",
            "ticks": ""
           }
          },
          "title": {
           "x": 0.05
          },
          "updatemenudefaults": {
           "bgcolor": "#506784",
           "borderwidth": 0
          },
          "xaxis": {
           "automargin": true,
           "gridcolor": "#283442",
           "linecolor": "#506784",
           "ticks": "",
           "title": {
            "standoff": 15
           },
           "zerolinecolor": "#283442",
           "zerolinewidth": 2
          },
          "yaxis": {
           "automargin": true,
           "gridcolor": "#283442",
           "linecolor": "#506784",
           "ticks": "",
           "title": {
            "standoff": 15
           },
           "zerolinecolor": "#283442",
           "zerolinewidth": 2
          }
         }
        },
        "title": {
         "text": "hydropathy of protein G"
        }
       }
      }
     },
     "metadata": {},
     "output_type": "display_data"
    },
    {
     "data": {
      "application/vnd.plotly.v1+json": {
       "config": {
        "plotlyServerURL": "https://plot.ly"
       },
       "data": [
        {
         "type": "bar",
         "x": [
          0,
          1,
          2,
          3,
          4,
          5,
          6,
          7,
          8,
          9,
          10,
          11,
          12,
          13,
          14,
          15,
          16,
          17,
          18,
          19,
          20,
          21,
          22,
          23,
          24,
          25,
          26,
          27,
          28,
          29,
          30,
          31,
          32,
          33,
          34,
          35,
          36,
          37,
          38,
          39,
          40,
          41,
          42,
          43,
          44,
          45,
          46,
          47,
          48,
          49,
          50,
          51,
          52,
          53,
          54,
          55,
          56,
          57,
          58,
          59,
          60,
          61,
          62,
          63,
          64,
          65,
          66,
          67,
          68,
          69,
          70,
          71,
          72,
          73,
          74,
          75,
          76,
          77,
          78,
          79,
          80,
          81,
          82,
          83,
          84,
          85,
          86,
          87,
          88,
          89,
          90,
          91,
          92,
          93,
          94,
          95,
          96,
          97,
          98,
          99,
          100,
          101,
          102,
          103,
          104,
          105,
          106,
          107,
          108,
          109,
          110,
          111,
          112,
          113,
          114,
          115,
          116,
          117,
          118,
          119,
          120,
          121,
          122,
          123,
          124,
          125,
          126,
          127,
          128,
          129,
          130,
          131,
          132,
          133,
          134,
          135,
          136,
          137,
          138,
          139,
          140,
          141,
          142,
          143,
          144,
          145,
          146,
          147,
          148,
          149,
          150,
          151,
          152,
          153,
          154,
          155,
          156,
          157,
          158,
          159,
          160,
          161,
          162,
          163,
          164,
          165,
          166,
          167,
          168,
          169,
          170,
          171,
          172,
          173,
          174,
          175,
          176,
          177,
          178,
          179,
          180,
          181,
          182,
          183,
          184,
          185,
          186,
          187,
          188,
          189,
          190,
          191,
          192,
          193,
          194,
          195,
          196,
          197,
          198,
          199,
          200,
          201,
          202,
          203,
          204,
          205,
          206,
          207,
          208,
          209,
          210,
          211,
          212,
          213,
          214,
          215,
          216,
          217,
          218,
          219,
          220,
          221,
          222,
          223,
          224,
          225,
          226,
          227,
          228,
          229,
          230,
          231,
          232,
          233,
          234,
          235,
          236,
          237,
          238,
          239,
          240,
          241,
          242,
          243,
          244,
          245,
          246,
          247,
          248,
          249,
          250,
          251,
          252,
          253,
          254,
          255,
          256,
          257,
          258,
          259,
          260,
          261,
          262,
          263,
          264,
          265,
          266,
          267,
          268,
          269,
          270,
          271,
          272,
          273,
          274,
          275,
          276,
          277,
          278,
          279,
          280,
          281,
          282,
          283,
          284,
          285,
          286,
          287,
          288,
          289,
          290,
          291,
          292,
          293,
          294,
          295,
          296,
          297,
          298,
          299,
          300,
          301,
          302,
          303,
          304,
          305,
          306,
          307,
          308,
          309,
          310,
          311,
          312,
          313,
          314,
          315,
          316,
          317,
          318,
          319,
          320,
          321,
          322,
          323,
          324,
          325,
          326,
          327,
          328,
          329,
          330,
          331,
          332,
          333,
          334,
          335,
          336,
          337,
          338,
          339,
          340,
          341,
          342,
          343,
          344,
          345,
          346,
          347,
          348,
          349,
          350,
          351,
          352,
          353,
          354,
          355,
          356,
          357,
          358,
          359,
          360
         ],
         "y": [
          1.9,
          -0.8,
          0.9666666666666667,
          -0.15000000000000002,
          0.25999999999999995,
          0.5166666666666666,
          -0.0571428571428572,
          -0.4875,
          -0.12222222222222223,
          -0.18,
          -0.30909090909090914,
          -0.4166666666666667,
          -0.4461538461538461,
          -0.2857142857142857,
          -0.31333333333333335,
          -0.39375000000000004,
          -0.5764705882352942,
          -0.5666666666666668,
          -0.7210526315789474,
          -0.8600000000000001,
          -0.7000000000000002,
          -0.8272727272727274,
          -0.6260869565217392,
          -0.6541666666666667,
          -0.556,
          -0.6576923076923078,
          -0.7518518518518519,
          -0.7535714285714287,
          -0.7517241379310345,
          -0.6666666666666666,
          -0.7903225806451613,
          -0.6250000000000001,
          -0.47878787878787893,
          -0.4088235294117648,
          -0.44285714285714295,
          -0.32500000000000007,
          -0.40270270270270275,
          -0.42631578947368426,
          -0.435897435897436,
          -0.33,
          -0.21951219512195122,
          -0.14761904761904762,
          -0.03953488372093024,
          0.06363636363636363,
          0.05333333333333333,
          0.13478260869565215,
          0.2212765957446808,
          0.20833333333333326,
          0.13265306122448972,
          0.20599999999999993,
          0.2764705882352941,
          0.30576923076923074,
          0.37169811320754714,
          0.4425925925925926,
          0.5109090909090909,
          0.5821428571428571,
          0.6456140350877192,
          0.5741379310344827,
          0.5050847457627118,
          0.42166666666666663,
          0.3508196721311475,
          0.28225806451612906,
          0.3492063492063492,
          0.28906249999999994,
          0.27230769230769225,
          0.2575757575757575,
          0.2432835820895522,
          0.2955882352941176,
          0.272463768115942,
          0.2571428571428571,
          0.24366197183098587,
          0.1916666666666666,
          0.24109589041095883,
          0.2945945945945945,
          0.35066666666666657,
          0.3355263157894736,
          0.28571428571428564,
          0.33974358974358965,
          0.3835443037974683,
          0.41374999999999995,
          0.3999999999999999,
          0.38658536585365844,
          0.4036144578313252,
          0.4440476190476189,
          0.4199999999999999,
          0.40697674418604635,
          0.350574712643678,
          0.3977272727272727,
          0.4134831460674157,
          0.39444444444444443,
          0.3758241758241759,
          0.391304347826087,
          0.4075268817204301,
          0.39893617021276595,
          0.4242105263157894,
          0.3833333333333333,
          0.3701030927835051,
          0.32040816326530613,
          0.36262626262626263,
          0.355,
          0.301,
          0.354,
          0.34700000000000003,
          0.407,
          0.34299999999999997,
          0.37,
          0.39799999999999996,
          0.45099999999999996,
          0.461,
          0.51,
          0.5539999999999999,
          0.557,
          0.6100000000000001,
          0.557,
          0.557,
          0.56,
          0.613,
          0.6129999999999999,
          0.69,
          0.69,
          0.693,
          0.747,
          0.7020000000000001,
          0.74,
          0.76,
          0.784,
          0.8610000000000001,
          0.8340000000000001,
          0.796,
          0.806,
          0.8960000000000001,
          0.8690000000000001,
          0.8689999999999999,
          0.892,
          0.8759999999999999,
          0.8220000000000001,
          0.892,
          0.86,
          0.855,
          0.782,
          0.7010000000000001,
          0.718,
          0.6340000000000001,
          0.544,
          0.5930000000000001,
          0.52,
          0.44599999999999995,
          0.46799999999999997,
          0.46399999999999997,
          0.42199999999999993,
          0.426,
          0.4330000000000001,
          0.44000000000000006,
          0.426,
          0.426,
          0.37200000000000005,
          0.37500000000000006,
          0.44800000000000006,
          0.525,
          0.598,
          0.655,
          0.6589999999999999,
          0.607,
          0.6799999999999998,
          0.6719999999999999,
          0.7170000000000001,
          0.762,
          0.769,
          0.7469999999999999,
          0.7390000000000001,
          0.7650000000000001,
          0.792,
          0.7150000000000002,
          0.6380000000000001,
          0.558,
          0.584,
          0.584,
          0.49399999999999994,
          0.5009999999999999,
          0.46599999999999986,
          0.4979999999999999,
          0.5239999999999998,
          0.4709999999999999,
          0.41999999999999993,
          0.42,
          0.39199999999999996,
          0.465,
          0.38499999999999995,
          0.3319999999999999,
          0.3379999999999999,
          0.31199999999999994,
          0.286,
          0.30499999999999994,
          0.293,
          0.2559999999999999,
          0.33599999999999997,
          0.38299999999999995,
          0.46599999999999997,
          0.417,
          0.439,
          0.499,
          0.5089999999999999,
          0.5159999999999999,
          0.48699999999999993,
          0.519,
          0.516,
          0.5609999999999999,
          0.5269999999999999,
          0.5269999999999999,
          0.5299999999999998,
          0.5469999999999999,
          0.605,
          0.598,
          0.6779999999999999,
          0.71,
          0.71,
          0.684,
          0.6530000000000001,
          0.6560000000000001,
          0.7160000000000001,
          0.713,
          0.655,
          0.6999999999999998,
          0.703,
          0.62,
          0.621,
          0.5939999999999999,
          0.59,
          0.6,
          0.5369999999999999,
          0.4760000000000001,
          0.49599999999999994,
          0.44699999999999995,
          0.36999999999999994,
          0.363,
          0.371,
          0.32900000000000007,
          0.4160000000000001,
          0.39400000000000013,
          0.3900000000000001,
          0.39000000000000007,
          0.36300000000000004,
          0.44,
          0.45,
          0.39799999999999996,
          0.478,
          0.555,
          0.575,
          0.659,
          0.708,
          0.708,
          0.725,
          0.708,
          0.722,
          0.718,
          0.752,
          0.735,
          0.69,
          0.632,
          0.591,
          0.541,
          0.618,
          0.643,
          0.65,
          0.711,
          0.638,
          0.568,
          0.5419999999999999,
          0.622,
          0.5989999999999999,
          0.541,
          0.587,
          0.581,
          0.6439999999999999,
          0.6709999999999999,
          0.618,
          0.6809999999999999,
          0.7639999999999999,
          0.6839999999999997,
          0.716,
          0.6829999999999998,
          0.6289999999999999,
          0.6189999999999999,
          0.6,
          0.608,
          0.6709999999999998,
          0.608,
          0.688,
          0.715,
          0.76,
          0.7669999999999999,
          0.8029999999999999,
          0.7579999999999998,
          0.816,
          0.8499999999999999,
          0.843,
          0.8240000000000001,
          0.7509999999999999,
          0.7829999999999998,
          0.73,
          0.7299999999999999,
          0.7269999999999999,
          0.701,
          0.67,
          0.6670000000000001,
          0.653,
          0.6599999999999998,
          0.6629999999999999,
          0.653,
          0.6359999999999999,
          0.6089999999999999,
          0.5889999999999999,
          0.5119999999999999,
          0.46299999999999997,
          0.425,
          0.3990000000000001,
          0.36200000000000004,
          0.35800000000000004,
          0.3550000000000001,
          0.34900000000000003,
          0.2790000000000001,
          0.337,
          0.337,
          0.27,
          0.27,
          0.24199999999999997,
          0.26599999999999996,
          0.29699999999999993,
          0.37400000000000005,
          0.4010000000000001,
          0.462,
          0.4159999999999999,
          0.4150000000000001,
          0.46799999999999997,
          0.549,
          0.518,
          0.514,
          0.49000000000000005,
          0.509,
          0.513,
          0.517,
          0.46399999999999997,
          0.41800000000000004,
          0.408,
          0.38000000000000006,
          0.35400000000000004,
          0.302,
          0.229,
          0.177,
          0.09700000000000003,
          0.07400000000000002,
          0.051,
          0.068,
          -0.006000000000000032,
          -0.052000000000000046,
          -0.11600000000000006,
          -0.15200000000000005,
          -0.15300000000000005,
          -0.17200000000000004,
          -0.163,
          -0.17
         ]
        }
       ],
       "layout": {
        "template": {
         "data": {
          "bar": [
           {
            "error_x": {
             "color": "#f2f5fa"
            },
            "error_y": {
             "color": "#f2f5fa"
            },
            "marker": {
             "line": {
              "color": "rgb(17,17,17)",
              "width": 0.5
             },
             "pattern": {
              "fillmode": "overlay",
              "size": 10,
              "solidity": 0.2
             }
            },
            "type": "bar"
           }
          ],
          "barpolar": [
           {
            "marker": {
             "line": {
              "color": "rgb(17,17,17)",
              "width": 0.5
             },
             "pattern": {
              "fillmode": "overlay",
              "size": 10,
              "solidity": 0.2
             }
            },
            "type": "barpolar"
           }
          ],
          "carpet": [
           {
            "aaxis": {
             "endlinecolor": "#A2B1C6",
             "gridcolor": "#506784",
             "linecolor": "#506784",
             "minorgridcolor": "#506784",
             "startlinecolor": "#A2B1C6"
            },
            "baxis": {
             "endlinecolor": "#A2B1C6",
             "gridcolor": "#506784",
             "linecolor": "#506784",
             "minorgridcolor": "#506784",
             "startlinecolor": "#A2B1C6"
            },
            "type": "carpet"
           }
          ],
          "choropleth": [
           {
            "colorbar": {
             "outlinewidth": 0,
             "ticks": ""
            },
            "type": "choropleth"
           }
          ],
          "contour": [
           {
            "colorbar": {
             "outlinewidth": 0,
             "ticks": ""
            },
            "colorscale": [
             [
              0,
              "#0d0887"
             ],
             [
              0.1111111111111111,
              "#46039f"
             ],
             [
              0.2222222222222222,
              "#7201a8"
             ],
             [
              0.3333333333333333,
              "#9c179e"
             ],
             [
              0.4444444444444444,
              "#bd3786"
             ],
             [
              0.5555555555555556,
              "#d8576b"
             ],
             [
              0.6666666666666666,
              "#ed7953"
             ],
             [
              0.7777777777777778,
              "#fb9f3a"
             ],
             [
              0.8888888888888888,
              "#fdca26"
             ],
             [
              1,
              "#f0f921"
             ]
            ],
            "type": "contour"
           }
          ],
          "contourcarpet": [
           {
            "colorbar": {
             "outlinewidth": 0,
             "ticks": ""
            },
            "type": "contourcarpet"
           }
          ],
          "heatmap": [
           {
            "colorbar": {
             "outlinewidth": 0,
             "ticks": ""
            },
            "colorscale": [
             [
              0,
              "#0d0887"
             ],
             [
              0.1111111111111111,
              "#46039f"
             ],
             [
              0.2222222222222222,
              "#7201a8"
             ],
             [
              0.3333333333333333,
              "#9c179e"
             ],
             [
              0.4444444444444444,
              "#bd3786"
             ],
             [
              0.5555555555555556,
              "#d8576b"
             ],
             [
              0.6666666666666666,
              "#ed7953"
             ],
             [
              0.7777777777777778,
              "#fb9f3a"
             ],
             [
              0.8888888888888888,
              "#fdca26"
             ],
             [
              1,
              "#f0f921"
             ]
            ],
            "type": "heatmap"
           }
          ],
          "heatmapgl": [
           {
            "colorbar": {
             "outlinewidth": 0,
             "ticks": ""
            },
            "colorscale": [
             [
              0,
              "#0d0887"
             ],
             [
              0.1111111111111111,
              "#46039f"
             ],
             [
              0.2222222222222222,
              "#7201a8"
             ],
             [
              0.3333333333333333,
              "#9c179e"
             ],
             [
              0.4444444444444444,
              "#bd3786"
             ],
             [
              0.5555555555555556,
              "#d8576b"
             ],
             [
              0.6666666666666666,
              "#ed7953"
             ],
             [
              0.7777777777777778,
              "#fb9f3a"
             ],
             [
              0.8888888888888888,
              "#fdca26"
             ],
             [
              1,
              "#f0f921"
             ]
            ],
            "type": "heatmapgl"
           }
          ],
          "histogram": [
           {
            "marker": {
             "pattern": {
              "fillmode": "overlay",
              "size": 10,
              "solidity": 0.2
             }
            },
            "type": "histogram"
           }
          ],
          "histogram2d": [
           {
            "colorbar": {
             "outlinewidth": 0,
             "ticks": ""
            },
            "colorscale": [
             [
              0,
              "#0d0887"
             ],
             [
              0.1111111111111111,
              "#46039f"
             ],
             [
              0.2222222222222222,
              "#7201a8"
             ],
             [
              0.3333333333333333,
              "#9c179e"
             ],
             [
              0.4444444444444444,
              "#bd3786"
             ],
             [
              0.5555555555555556,
              "#d8576b"
             ],
             [
              0.6666666666666666,
              "#ed7953"
             ],
             [
              0.7777777777777778,
              "#fb9f3a"
             ],
             [
              0.8888888888888888,
              "#fdca26"
             ],
             [
              1,
              "#f0f921"
             ]
            ],
            "type": "histogram2d"
           }
          ],
          "histogram2dcontour": [
           {
            "colorbar": {
             "outlinewidth": 0,
             "ticks": ""
            },
            "colorscale": [
             [
              0,
              "#0d0887"
             ],
             [
              0.1111111111111111,
              "#46039f"
             ],
             [
              0.2222222222222222,
              "#7201a8"
             ],
             [
              0.3333333333333333,
              "#9c179e"
             ],
             [
              0.4444444444444444,
              "#bd3786"
             ],
             [
              0.5555555555555556,
              "#d8576b"
             ],
             [
              0.6666666666666666,
              "#ed7953"
             ],
             [
              0.7777777777777778,
              "#fb9f3a"
             ],
             [
              0.8888888888888888,
              "#fdca26"
             ],
             [
              1,
              "#f0f921"
             ]
            ],
            "type": "histogram2dcontour"
           }
          ],
          "mesh3d": [
           {
            "colorbar": {
             "outlinewidth": 0,
             "ticks": ""
            },
            "type": "mesh3d"
           }
          ],
          "parcoords": [
           {
            "line": {
             "colorbar": {
              "outlinewidth": 0,
              "ticks": ""
             }
            },
            "type": "parcoords"
           }
          ],
          "pie": [
           {
            "automargin": true,
            "type": "pie"
           }
          ],
          "scatter": [
           {
            "marker": {
             "line": {
              "color": "#283442"
             }
            },
            "type": "scatter"
           }
          ],
          "scatter3d": [
           {
            "line": {
             "colorbar": {
              "outlinewidth": 0,
              "ticks": ""
             }
            },
            "marker": {
             "colorbar": {
              "outlinewidth": 0,
              "ticks": ""
             }
            },
            "type": "scatter3d"
           }
          ],
          "scattercarpet": [
           {
            "marker": {
             "colorbar": {
              "outlinewidth": 0,
              "ticks": ""
             }
            },
            "type": "scattercarpet"
           }
          ],
          "scattergeo": [
           {
            "marker": {
             "colorbar": {
              "outlinewidth": 0,
              "ticks": ""
             }
            },
            "type": "scattergeo"
           }
          ],
          "scattergl": [
           {
            "marker": {
             "line": {
              "color": "#283442"
             }
            },
            "type": "scattergl"
           }
          ],
          "scattermapbox": [
           {
            "marker": {
             "colorbar": {
              "outlinewidth": 0,
              "ticks": ""
             }
            },
            "type": "scattermapbox"
           }
          ],
          "scatterpolar": [
           {
            "marker": {
             "colorbar": {
              "outlinewidth": 0,
              "ticks": ""
             }
            },
            "type": "scatterpolar"
           }
          ],
          "scatterpolargl": [
           {
            "marker": {
             "colorbar": {
              "outlinewidth": 0,
              "ticks": ""
             }
            },
            "type": "scatterpolargl"
           }
          ],
          "scatterternary": [
           {
            "marker": {
             "colorbar": {
              "outlinewidth": 0,
              "ticks": ""
             }
            },
            "type": "scatterternary"
           }
          ],
          "surface": [
           {
            "colorbar": {
             "outlinewidth": 0,
             "ticks": ""
            },
            "colorscale": [
             [
              0,
              "#0d0887"
             ],
             [
              0.1111111111111111,
              "#46039f"
             ],
             [
              0.2222222222222222,
              "#7201a8"
             ],
             [
              0.3333333333333333,
              "#9c179e"
             ],
             [
              0.4444444444444444,
              "#bd3786"
             ],
             [
              0.5555555555555556,
              "#d8576b"
             ],
             [
              0.6666666666666666,
              "#ed7953"
             ],
             [
              0.7777777777777778,
              "#fb9f3a"
             ],
             [
              0.8888888888888888,
              "#fdca26"
             ],
             [
              1,
              "#f0f921"
             ]
            ],
            "type": "surface"
           }
          ],
          "table": [
           {
            "cells": {
             "fill": {
              "color": "#506784"
             },
             "line": {
              "color": "rgb(17,17,17)"
             }
            },
            "header": {
             "fill": {
              "color": "#2a3f5f"
             },
             "line": {
              "color": "rgb(17,17,17)"
             }
            },
            "type": "table"
           }
          ]
         },
         "layout": {
          "annotationdefaults": {
           "arrowcolor": "#f2f5fa",
           "arrowhead": 0,
           "arrowwidth": 1
          },
          "autotypenumbers": "strict",
          "coloraxis": {
           "colorbar": {
            "outlinewidth": 0,
            "ticks": ""
           }
          },
          "colorscale": {
           "diverging": [
            [
             0,
             "#8e0152"
            ],
            [
             0.1,
             "#c51b7d"
            ],
            [
             0.2,
             "#de77ae"
            ],
            [
             0.3,
             "#f1b6da"
            ],
            [
             0.4,
             "#fde0ef"
            ],
            [
             0.5,
             "#f7f7f7"
            ],
            [
             0.6,
             "#e6f5d0"
            ],
            [
             0.7,
             "#b8e186"
            ],
            [
             0.8,
             "#7fbc41"
            ],
            [
             0.9,
             "#4d9221"
            ],
            [
             1,
             "#276419"
            ]
           ],
           "sequential": [
            [
             0,
             "#0d0887"
            ],
            [
             0.1111111111111111,
             "#46039f"
            ],
            [
             0.2222222222222222,
             "#7201a8"
            ],
            [
             0.3333333333333333,
             "#9c179e"
            ],
            [
             0.4444444444444444,
             "#bd3786"
            ],
            [
             0.5555555555555556,
             "#d8576b"
            ],
            [
             0.6666666666666666,
             "#ed7953"
            ],
            [
             0.7777777777777778,
             "#fb9f3a"
            ],
            [
             0.8888888888888888,
             "#fdca26"
            ],
            [
             1,
             "#f0f921"
            ]
           ],
           "sequentialminus": [
            [
             0,
             "#0d0887"
            ],
            [
             0.1111111111111111,
             "#46039f"
            ],
            [
             0.2222222222222222,
             "#7201a8"
            ],
            [
             0.3333333333333333,
             "#9c179e"
            ],
            [
             0.4444444444444444,
             "#bd3786"
            ],
            [
             0.5555555555555556,
             "#d8576b"
            ],
            [
             0.6666666666666666,
             "#ed7953"
            ],
            [
             0.7777777777777778,
             "#fb9f3a"
            ],
            [
             0.8888888888888888,
             "#fdca26"
            ],
            [
             1,
             "#f0f921"
            ]
           ]
          },
          "colorway": [
           "#636efa",
           "#EF553B",
           "#00cc96",
           "#ab63fa",
           "#FFA15A",
           "#19d3f3",
           "#FF6692",
           "#B6E880",
           "#FF97FF",
           "#FECB52"
          ],
          "font": {
           "color": "#f2f5fa"
          },
          "geo": {
           "bgcolor": "rgb(17,17,17)",
           "lakecolor": "rgb(17,17,17)",
           "landcolor": "rgb(17,17,17)",
           "showlakes": true,
           "showland": true,
           "subunitcolor": "#506784"
          },
          "hoverlabel": {
           "align": "left"
          },
          "hovermode": "closest",
          "mapbox": {
           "style": "dark"
          },
          "paper_bgcolor": "rgb(17,17,17)",
          "plot_bgcolor": "rgb(17,17,17)",
          "polar": {
           "angularaxis": {
            "gridcolor": "#506784",
            "linecolor": "#506784",
            "ticks": ""
           },
           "bgcolor": "rgb(17,17,17)",
           "radialaxis": {
            "gridcolor": "#506784",
            "linecolor": "#506784",
            "ticks": ""
           }
          },
          "scene": {
           "xaxis": {
            "backgroundcolor": "rgb(17,17,17)",
            "gridcolor": "#506784",
            "gridwidth": 2,
            "linecolor": "#506784",
            "showbackground": true,
            "ticks": "",
            "zerolinecolor": "#C8D4E3"
           },
           "yaxis": {
            "backgroundcolor": "rgb(17,17,17)",
            "gridcolor": "#506784",
            "gridwidth": 2,
            "linecolor": "#506784",
            "showbackground": true,
            "ticks": "",
            "zerolinecolor": "#C8D4E3"
           },
           "zaxis": {
            "backgroundcolor": "rgb(17,17,17)",
            "gridcolor": "#506784",
            "gridwidth": 2,
            "linecolor": "#506784",
            "showbackground": true,
            "ticks": "",
            "zerolinecolor": "#C8D4E3"
           }
          },
          "shapedefaults": {
           "line": {
            "color": "#f2f5fa"
           }
          },
          "sliderdefaults": {
           "bgcolor": "#C8D4E3",
           "bordercolor": "rgb(17,17,17)",
           "borderwidth": 1,
           "tickwidth": 0
          },
          "ternary": {
           "aaxis": {
            "gridcolor": "#506784",
            "linecolor": "#506784",
            "ticks": ""
           },
           "baxis": {
            "gridcolor": "#506784",
            "linecolor": "#506784",
            "ticks": ""
           },
           "bgcolor": "rgb(17,17,17)",
           "caxis": {
            "gridcolor": "#506784",
            "linecolor": "#506784",
            "ticks": ""
           }
          },
          "title": {
           "x": 0.05
          },
          "updatemenudefaults": {
           "bgcolor": "#506784",
           "borderwidth": 0
          },
          "xaxis": {
           "automargin": true,
           "gridcolor": "#283442",
           "linecolor": "#506784",
           "ticks": "",
           "title": {
            "standoff": 15
           },
           "zerolinecolor": "#283442",
           "zerolinewidth": 2
          },
          "yaxis": {
           "automargin": true,
           "gridcolor": "#283442",
           "linecolor": "#506784",
           "ticks": "",
           "title": {
            "standoff": 15
           },
           "zerolinecolor": "#283442",
           "zerolinewidth": 2
          }
         }
        },
        "title": {
         "text": "hydropathy of protein G"
        }
       }
      }
     },
     "metadata": {},
     "output_type": "display_data"
    }
   ],
   "source": [
    "protein = Protein('G', protein_s)\n",
    "protein.plot(window_size=5)\n",
    "protein.plot(window_size=100)"
   ]
  },
  {
   "cell_type": "markdown",
   "metadata": {},
   "source": [
    "Hydrophilic and hydrophobic areas are visible (positive values: hydrophobic, negative values: hydrophilic)."
   ]
  }
 ],
 "metadata": {
  "interpreter": {
   "hash": "6dd9bcb9fcb308fb3da563654ab13a605d97a2c3c9f12caa4b8e45b9393babba"
  },
  "kernelspec": {
   "display_name": "Python 3.9.7 64-bit ('.venv': venv)",
   "language": "python",
   "name": "python3"
  },
  "language_info": {
   "codemirror_mode": {
    "name": "ipython",
    "version": 3
   },
   "file_extension": ".py",
   "mimetype": "text/x-python",
   "name": "python",
   "nbconvert_exporter": "python",
   "pygments_lexer": "ipython3",
   "version": "3.9.7"
  },
  "orig_nbformat": 4
 },
 "nbformat": 4,
 "nbformat_minor": 2
}
