{
 "cells": [
  {
   "cell_type": "code",
   "execution_count": 50,
   "metadata": {},
   "outputs": [
    {
     "name": "stdout",
     "output_type": "stream",
     "text": [
      "['Primorsko-Akhtarsk', 'Slavyansk-na-Kubani', 'Temryuk', 'Krymsk', 'Tsibanobalka', 'Timashevsk', 'Vityazevo', 'Abinsk', 'Anapa', 'Supsekh']\n"
     ]
    }
   ],
   "source": [
    "import geopy.distance\n",
    "import pandas as pd\n",
    "import csv\n",
    "\n",
    "\n",
    "\n",
    "def calculate_geo_distance(point, city_coordinates):\n",
    "    \"\"\" \n",
    "    @param tuple point\n",
    "    @param tuple city_coordinates\n",
    "    \"\"\"\n",
    "    dist = geopy.distance.distance(point, city_coordinates).km\n",
    "    return dist\n",
    "\n",
    "def createDataFrame(path, point):\n",
    "    city_data = pd.read_csv(path).iloc[:,:3]\n",
    "    city_data[\"distances\"] = city_data.apply(lambda row: calculate_geo_distance(point, (row['lat'], row['lng'])), axis = 1)\n",
    "    return city_data\n",
    "\n",
    "\n",
    "def find_ten_closest_cities(c_df):\n",
    "    c_df = c_df.sort_values(by=[\"distances\"], ascending = True)\n",
    "    closest_cities = list(c_df.iloc[0:10,0])\n",
    "    return closest_cities\n",
    "\n",
    "def extract_ten_closest_cities(path, point):\n",
    "    city_data = createDataFrame(path, point)\n",
    "    closest_cities = find_ten_closest_cities(city_data)\n",
    "    return closest_cities\n",
    "\n",
    "c_cities = extract_ten_closest_cities(\"cities.csv\", (45.7, 37.8))\n",
    "print(c_cities)\n"
   ]
  }
 ],
 "metadata": {
  "interpreter": {
   "hash": "cd3a76614d9cd0c5a02efb613b3c17134a67e928a76a5b96a2bdf0aecb9b20c5"
  },
  "kernelspec": {
   "display_name": "Python 3.9.7 64-bit",
   "language": "python",
   "name": "python3"
  },
  "language_info": {
   "codemirror_mode": {
    "name": "ipython",
    "version": 3
   },
   "file_extension": ".py",
   "mimetype": "text/x-python",
   "name": "python",
   "nbconvert_exporter": "python",
   "pygments_lexer": "ipython3",
   "version": "3.9.7"
  },
  "orig_nbformat": 4
 },
 "nbformat": 4,
 "nbformat_minor": 2
}
