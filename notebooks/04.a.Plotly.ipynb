{
 "cells": [
  {
   "cell_type": "code",
   "execution_count": 2,
   "metadata": {
    "slideshow": {
     "slide_type": "slide"
    }
   },
   "outputs": [
    {
     "data": {
      "text/markdown": [
       "# Advanced Python Course \n",
       "## Mobi Heidelberg WS 2021/22\n",
       "### by Christian Fufezan \n",
       "\n",
       "christian@fufezan.net\n",
       "\n",
       "https://fufezan.net\n",
       "\n",
       "<img src=\"./images/cc.png\" alt=\"drawing\" width=\"200\" style=\"float: left;\"/>\n"
      ],
      "text/plain": [
       "<IPython.core.display.Markdown object>"
      ]
     },
     "metadata": {},
     "output_type": "display_data"
    }
   ],
   "source": [
    "import course;course.header()"
   ]
  },
  {
   "cell_type": "markdown",
   "metadata": {
    "slideshow": {
     "slide_type": "slide"
    }
   },
   "source": [
    "# Days 4\n",
    "## Overview"
   ]
  },
  {
   "cell_type": "code",
   "execution_count": 3,
   "metadata": {},
   "outputs": [
    {
     "data": {
      "text/html": [
       "<div>\n",
       "<style scoped>\n",
       "    .dataframe tbody tr th:only-of-type {\n",
       "        vertical-align: middle;\n",
       "    }\n",
       "\n",
       "    .dataframe tbody tr th {\n",
       "        vertical-align: top;\n",
       "    }\n",
       "\n",
       "    .dataframe thead th {\n",
       "        text-align: right;\n",
       "    }\n",
       "</style>\n",
       "<table border=\"1\" class=\"dataframe\">\n",
       "  <thead>\n",
       "    <tr style=\"text-align: right;\">\n",
       "      <th></th>\n",
       "      <th>day</th>\n",
       "      <th>Topic</th>\n",
       "    </tr>\n",
       "  </thead>\n",
       "  <tbody>\n",
       "    <tr>\n",
       "      <th>14</th>\n",
       "      <td>4</td>\n",
       "      <td>Discussion of Excercises 3</td>\n",
       "    </tr>\n",
       "    <tr>\n",
       "      <th>15</th>\n",
       "      <td>4</td>\n",
       "      <td>String format</td>\n",
       "    </tr>\n",
       "    <tr>\n",
       "      <th>16</th>\n",
       "      <td>4</td>\n",
       "      <td>dicts</td>\n",
       "    </tr>\n",
       "    <tr>\n",
       "      <th>17</th>\n",
       "      <td>4</td>\n",
       "      <td>itertools</td>\n",
       "    </tr>\n",
       "    <tr>\n",
       "      <th>18</th>\n",
       "      <td>4</td>\n",
       "      <td>OOP</td>\n",
       "    </tr>\n",
       "  </tbody>\n",
       "</table>\n",
       "</div>"
      ],
      "text/plain": [
       "    day                       Topic\n",
       "14    4  Discussion of Excercises 3\n",
       "15    4               String format\n",
       "16    4                       dicts\n",
       "17    4                   itertools\n",
       "18    4                         OOP"
      ]
     },
     "execution_count": 3,
     "metadata": {},
     "output_type": "execute_result"
    }
   ],
   "source": [
    "course.display_topics(day=4)"
   ]
  },
  {
   "cell_type": "markdown",
   "metadata": {
    "slideshow": {
     "slide_type": "slide"
    }
   },
   "source": [
    "# Discssion @ Excersises \n",
    "\n"
   ]
  },
  {
   "cell_type": "code",
   "execution_count": null,
   "metadata": {},
   "outputs": [],
   "source": []
  },
  {
   "cell_type": "code",
   "execution_count": null,
   "metadata": {},
   "outputs": [],
   "source": []
  },
  {
   "cell_type": "code",
   "execution_count": null,
   "metadata": {},
   "outputs": [],
   "source": []
  },
  {
   "cell_type": "markdown",
   "metadata": {
    "slideshow": {
     "slide_type": "slide"
    }
   },
   "source": [
    "# Plotting with plotly\n",
    "\n",
    "Plotly is an interactive plotting library supporting many programming languages. Plotlys plots are based on javascript build on top of d3.js and stack.gl.\n",
    "\n",
    "Advantages comapred to ggplot, matplotlib (and derivitates, seaborn ..), bokeh, pygal are:\n",
    "* interactive (mouse over, zoom ...)\n",
    "* directly embeddable as html\n",
    "* realtime plots"
   ]
  },
  {
   "cell_type": "code",
   "execution_count": 4,
   "metadata": {},
   "outputs": [
    {
     "name": "stdout",
     "output_type": "stream",
     "text": [
      "Requirement already satisfied: plotly in c:\\users\\marie\\fortgeschrittenenkurspythonfork\\.venv\\lib\\site-packages (5.3.1)\n",
      "Requirement already satisfied: six in c:\\users\\marie\\fortgeschrittenenkurspythonfork\\.venv\\lib\\site-packages (from plotly) (1.16.0)\n",
      "Requirement already satisfied: tenacity>=6.2.0 in c:\\users\\marie\\fortgeschrittenenkurspythonfork\\.venv\\lib\\site-packages (from plotly) (8.0.1)\n"
     ]
    }
   ],
   "source": [
    "!pip install plotly"
   ]
  },
  {
   "cell_type": "code",
   "execution_count": 5,
   "metadata": {},
   "outputs": [
    {
     "data": {
      "text/plain": [
       "'5.3.1'"
      ]
     },
     "execution_count": 5,
     "metadata": {},
     "output_type": "execute_result"
    }
   ],
   "source": [
    "# basic setup\n",
    "import plotly\n",
    "import plotly.graph_objs as go\n",
    "plotly.__version__"
   ]
  },
  {
   "cell_type": "code",
   "execution_count": 6,
   "metadata": {},
   "outputs": [
    {
     "data": {
      "text/plain": [
       "'1.3.4'"
      ]
     },
     "execution_count": 6,
     "metadata": {},
     "output_type": "execute_result"
    }
   ],
   "source": [
    "import pandas as pd\n",
    "pd.__version__"
   ]
  },
  {
   "cell_type": "code",
   "execution_count": 7,
   "metadata": {},
   "outputs": [],
   "source": [
    "# reading our small amino acid data set\n",
    "# we will discuss pandas in the second week ...\n",
    "aa_df = pd.read_csv(\"../data/amino_acid_properties.csv\")"
   ]
  },
  {
   "cell_type": "code",
   "execution_count": 8,
   "metadata": {},
   "outputs": [
    {
     "data": {
      "text/html": [
       "<div>\n",
       "<style scoped>\n",
       "    .dataframe tbody tr th:only-of-type {\n",
       "        vertical-align: middle;\n",
       "    }\n",
       "\n",
       "    .dataframe tbody tr th {\n",
       "        vertical-align: top;\n",
       "    }\n",
       "\n",
       "    .dataframe thead th {\n",
       "        text-align: right;\n",
       "    }\n",
       "</style>\n",
       "<table border=\"1\" class=\"dataframe\">\n",
       "  <thead>\n",
       "    <tr style=\"text-align: right;\">\n",
       "      <th></th>\n",
       "      <th>Name</th>\n",
       "      <th>3-letter code</th>\n",
       "      <th>1-letter code</th>\n",
       "      <th>Molecular Weight</th>\n",
       "      <th>Molecular Formula</th>\n",
       "      <th>Residue Formula</th>\n",
       "      <th>Residue Weight</th>\n",
       "      <th>pka1</th>\n",
       "      <th>pka2</th>\n",
       "      <th>pkaX</th>\n",
       "      <th>pI</th>\n",
       "      <th>hydropathy index (Kyte-Doolittle method)</th>\n",
       "      <th>Accessible surface</th>\n",
       "      <th>hp_type</th>\n",
       "      <th>hp_color</th>\n",
       "      <th>pk-state</th>\n",
       "    </tr>\n",
       "  </thead>\n",
       "  <tbody>\n",
       "    <tr>\n",
       "      <th>0</th>\n",
       "      <td>Alanine</td>\n",
       "      <td>Ala</td>\n",
       "      <td>A</td>\n",
       "      <td>89.10</td>\n",
       "      <td>C3H7NO2</td>\n",
       "      <td>C3H5NO</td>\n",
       "      <td>71.08</td>\n",
       "      <td>2.34</td>\n",
       "      <td>9.69</td>\n",
       "      <td>NaN</td>\n",
       "      <td>6.00</td>\n",
       "      <td>1.8</td>\n",
       "      <td>44.1</td>\n",
       "      <td>neutral</td>\n",
       "      <td>green</td>\n",
       "      <td>neutral</td>\n",
       "    </tr>\n",
       "    <tr>\n",
       "      <th>1</th>\n",
       "      <td>Arginine</td>\n",
       "      <td>Arg</td>\n",
       "      <td>R</td>\n",
       "      <td>174.20</td>\n",
       "      <td>C6H14N4O2</td>\n",
       "      <td>C6H12N4O</td>\n",
       "      <td>156.19</td>\n",
       "      <td>2.17</td>\n",
       "      <td>9.04</td>\n",
       "      <td>12.48</td>\n",
       "      <td>10.76</td>\n",
       "      <td>-4.5</td>\n",
       "      <td>159.2</td>\n",
       "      <td>hydrophilic</td>\n",
       "      <td>blue</td>\n",
       "      <td>alkine</td>\n",
       "    </tr>\n",
       "    <tr>\n",
       "      <th>2</th>\n",
       "      <td>Asparagine</td>\n",
       "      <td>Asn</td>\n",
       "      <td>N</td>\n",
       "      <td>132.12</td>\n",
       "      <td>C4H8N2O3</td>\n",
       "      <td>C4H6N2O2</td>\n",
       "      <td>114.11</td>\n",
       "      <td>2.02</td>\n",
       "      <td>8.80</td>\n",
       "      <td>NaN</td>\n",
       "      <td>5.41</td>\n",
       "      <td>-3.5</td>\n",
       "      <td>80.8</td>\n",
       "      <td>hydrophilic</td>\n",
       "      <td>blue</td>\n",
       "      <td>neutral</td>\n",
       "    </tr>\n",
       "    <tr>\n",
       "      <th>3</th>\n",
       "      <td>Aspartic acid</td>\n",
       "      <td>Asp</td>\n",
       "      <td>D</td>\n",
       "      <td>133.11</td>\n",
       "      <td>C4H7NO4</td>\n",
       "      <td>C4H5NO3</td>\n",
       "      <td>115.09</td>\n",
       "      <td>1.88</td>\n",
       "      <td>9.60</td>\n",
       "      <td>3.65</td>\n",
       "      <td>2.77</td>\n",
       "      <td>-3.5</td>\n",
       "      <td>76.3</td>\n",
       "      <td>hydrophilic</td>\n",
       "      <td>blue</td>\n",
       "      <td>acidic</td>\n",
       "    </tr>\n",
       "    <tr>\n",
       "      <th>4</th>\n",
       "      <td>Cysteine</td>\n",
       "      <td>Cys</td>\n",
       "      <td>C</td>\n",
       "      <td>121.16</td>\n",
       "      <td>C3H7NO2S</td>\n",
       "      <td>C3H5NOS</td>\n",
       "      <td>103.15</td>\n",
       "      <td>1.96</td>\n",
       "      <td>10.28</td>\n",
       "      <td>8.18</td>\n",
       "      <td>5.07</td>\n",
       "      <td>2.5</td>\n",
       "      <td>56.4</td>\n",
       "      <td>hydrophobic</td>\n",
       "      <td>grey</td>\n",
       "      <td>alkine</td>\n",
       "    </tr>\n",
       "  </tbody>\n",
       "</table>\n",
       "</div>"
      ],
      "text/plain": [
       "            Name 3-letter code 1-letter code  Molecular Weight  \\\n",
       "0        Alanine           Ala             A             89.10   \n",
       "1       Arginine           Arg             R            174.20   \n",
       "2     Asparagine           Asn             N            132.12   \n",
       "3  Aspartic acid           Asp             D            133.11   \n",
       "4       Cysteine           Cys             C            121.16   \n",
       "\n",
       "  Molecular Formula Residue Formula  Residue Weight  pka1   pka2   pkaX  \\\n",
       "0           C3H7NO2          C3H5NO           71.08  2.34   9.69    NaN   \n",
       "1         C6H14N4O2        C6H12N4O          156.19  2.17   9.04  12.48   \n",
       "2          C4H8N2O3        C4H6N2O2          114.11  2.02   8.80    NaN   \n",
       "3           C4H7NO4         C4H5NO3          115.09  1.88   9.60   3.65   \n",
       "4          C3H7NO2S         C3H5NOS          103.15  1.96  10.28   8.18   \n",
       "\n",
       "      pI  hydropathy index (Kyte-Doolittle method)  Accessible surface  \\\n",
       "0   6.00                                       1.8                44.1   \n",
       "1  10.76                                      -4.5               159.2   \n",
       "2   5.41                                      -3.5                80.8   \n",
       "3   2.77                                      -3.5                76.3   \n",
       "4   5.07                                       2.5                56.4   \n",
       "\n",
       "       hp_type hp_color pk-state  \n",
       "0      neutral    green  neutral  \n",
       "1  hydrophilic     blue   alkine  \n",
       "2  hydrophilic     blue  neutral  \n",
       "3  hydrophilic     blue   acidic  \n",
       "4  hydrophobic     grey   alkine  "
      ]
     },
     "execution_count": 8,
     "metadata": {},
     "output_type": "execute_result"
    }
   ],
   "source": [
    "aa_df.head()"
   ]
  },
  {
   "cell_type": "markdown",
   "metadata": {},
   "source": [
    "# Plotly express"
   ]
  },
  {
   "cell_type": "markdown",
   "metadata": {},
   "source": [
    "Fast plotting, yet not as much customizability."
   ]
  },
  {
   "cell_type": "code",
   "execution_count": 9,
   "metadata": {},
   "outputs": [
    {
     "data": {
      "application/vnd.plotly.v1+json": {
       "config": {
        "plotlyServerURL": "https://plot.ly"
       },
       "data": [
        {
         "alignmentgroup": "True",
         "box": {
          "visible": true
         },
         "hovertemplate": "<b>%{hovertext}</b><br><br>pk-state=%{x}<br>Accessible surface=%{y}<extra></extra>",
         "hovertext": [
          "A",
          "R",
          "N",
          "D",
          "C",
          "E",
          "Q",
          "G",
          "H",
          "I",
          "L",
          "K",
          "M",
          "F",
          "P",
          "S",
          "T",
          "W",
          "Y",
          "V"
         ],
         "legendgroup": "",
         "marker": {
          "color": "#636efa"
         },
         "name": "",
         "offsetgroup": "",
         "orientation": "v",
         "points": "all",
         "scalegroup": "True",
         "showlegend": false,
         "type": "violin",
         "x": [
          "neutral",
          "alkine",
          "neutral",
          "acidic",
          "alkine",
          "acidic",
          "neutral",
          "neutral",
          "neutral",
          "neutral",
          "neutral",
          "alkine",
          "neutral",
          "neutral",
          "neutral",
          "neutral",
          "neutral",
          "neutral",
          "alkine",
          "neutral"
         ],
         "x0": " ",
         "xaxis": "x",
         "y": [
          44.1,
          159.2,
          80.8,
          76.3,
          56.4,
          99.2,
          100.6,
          0,
          98.2,
          90.9,
          92.8,
          139.1,
          95.3,
          107.4,
          79.5,
          57.5,
          73.4,
          143.4,
          119.1,
          73
         ],
         "y0": " ",
         "yaxis": "y"
        }
       ],
       "layout": {
        "legend": {
         "tracegroupgap": 0
        },
        "margin": {
         "t": 60
        },
        "template": {
         "data": {
          "bar": [
           {
            "error_x": {
             "color": "#2a3f5f"
            },
            "error_y": {
             "color": "#2a3f5f"
            },
            "marker": {
             "line": {
              "color": "#E5ECF6",
              "width": 0.5
             },
             "pattern": {
              "fillmode": "overlay",
              "size": 10,
              "solidity": 0.2
             }
            },
            "type": "bar"
           }
          ],
          "barpolar": [
           {
            "marker": {
             "line": {
              "color": "#E5ECF6",
              "width": 0.5
             },
             "pattern": {
              "fillmode": "overlay",
              "size": 10,
              "solidity": 0.2
             }
            },
            "type": "barpolar"
           }
          ],
          "carpet": [
           {
            "aaxis": {
             "endlinecolor": "#2a3f5f",
             "gridcolor": "white",
             "linecolor": "white",
             "minorgridcolor": "white",
             "startlinecolor": "#2a3f5f"
            },
            "baxis": {
             "endlinecolor": "#2a3f5f",
             "gridcolor": "white",
             "linecolor": "white",
             "minorgridcolor": "white",
             "startlinecolor": "#2a3f5f"
            },
            "type": "carpet"
           }
          ],
          "choropleth": [
           {
            "colorbar": {
             "outlinewidth": 0,
             "ticks": ""
            },
            "type": "choropleth"
           }
          ],
          "contour": [
           {
            "colorbar": {
             "outlinewidth": 0,
             "ticks": ""
            },
            "colorscale": [
             [
              0,
              "#0d0887"
             ],
             [
              0.1111111111111111,
              "#46039f"
             ],
             [
              0.2222222222222222,
              "#7201a8"
             ],
             [
              0.3333333333333333,
              "#9c179e"
             ],
             [
              0.4444444444444444,
              "#bd3786"
             ],
             [
              0.5555555555555556,
              "#d8576b"
             ],
             [
              0.6666666666666666,
              "#ed7953"
             ],
             [
              0.7777777777777778,
              "#fb9f3a"
             ],
             [
              0.8888888888888888,
              "#fdca26"
             ],
             [
              1,
              "#f0f921"
             ]
            ],
            "type": "contour"
           }
          ],
          "contourcarpet": [
           {
            "colorbar": {
             "outlinewidth": 0,
             "ticks": ""
            },
            "type": "contourcarpet"
           }
          ],
          "heatmap": [
           {
            "colorbar": {
             "outlinewidth": 0,
             "ticks": ""
            },
            "colorscale": [
             [
              0,
              "#0d0887"
             ],
             [
              0.1111111111111111,
              "#46039f"
             ],
             [
              0.2222222222222222,
              "#7201a8"
             ],
             [
              0.3333333333333333,
              "#9c179e"
             ],
             [
              0.4444444444444444,
              "#bd3786"
             ],
             [
              0.5555555555555556,
              "#d8576b"
             ],
             [
              0.6666666666666666,
              "#ed7953"
             ],
             [
              0.7777777777777778,
              "#fb9f3a"
             ],
             [
              0.8888888888888888,
              "#fdca26"
             ],
             [
              1,
              "#f0f921"
             ]
            ],
            "type": "heatmap"
           }
          ],
          "heatmapgl": [
           {
            "colorbar": {
             "outlinewidth": 0,
             "ticks": ""
            },
            "colorscale": [
             [
              0,
              "#0d0887"
             ],
             [
              0.1111111111111111,
              "#46039f"
             ],
             [
              0.2222222222222222,
              "#7201a8"
             ],
             [
              0.3333333333333333,
              "#9c179e"
             ],
             [
              0.4444444444444444,
              "#bd3786"
             ],
             [
              0.5555555555555556,
              "#d8576b"
             ],
             [
              0.6666666666666666,
              "#ed7953"
             ],
             [
              0.7777777777777778,
              "#fb9f3a"
             ],
             [
              0.8888888888888888,
              "#fdca26"
             ],
             [
              1,
              "#f0f921"
             ]
            ],
            "type": "heatmapgl"
           }
          ],
          "histogram": [
           {
            "marker": {
             "pattern": {
              "fillmode": "overlay",
              "size": 10,
              "solidity": 0.2
             }
            },
            "type": "histogram"
           }
          ],
          "histogram2d": [
           {
            "colorbar": {
             "outlinewidth": 0,
             "ticks": ""
            },
            "colorscale": [
             [
              0,
              "#0d0887"
             ],
             [
              0.1111111111111111,
              "#46039f"
             ],
             [
              0.2222222222222222,
              "#7201a8"
             ],
             [
              0.3333333333333333,
              "#9c179e"
             ],
             [
              0.4444444444444444,
              "#bd3786"
             ],
             [
              0.5555555555555556,
              "#d8576b"
             ],
             [
              0.6666666666666666,
              "#ed7953"
             ],
             [
              0.7777777777777778,
              "#fb9f3a"
             ],
             [
              0.8888888888888888,
              "#fdca26"
             ],
             [
              1,
              "#f0f921"
             ]
            ],
            "type": "histogram2d"
           }
          ],
          "histogram2dcontour": [
           {
            "colorbar": {
             "outlinewidth": 0,
             "ticks": ""
            },
            "colorscale": [
             [
              0,
              "#0d0887"
             ],
             [
              0.1111111111111111,
              "#46039f"
             ],
             [
              0.2222222222222222,
              "#7201a8"
             ],
             [
              0.3333333333333333,
              "#9c179e"
             ],
             [
              0.4444444444444444,
              "#bd3786"
             ],
             [
              0.5555555555555556,
              "#d8576b"
             ],
             [
              0.6666666666666666,
              "#ed7953"
             ],
             [
              0.7777777777777778,
              "#fb9f3a"
             ],
             [
              0.8888888888888888,
              "#fdca26"
             ],
             [
              1,
              "#f0f921"
             ]
            ],
            "type": "histogram2dcontour"
           }
          ],
          "mesh3d": [
           {
            "colorbar": {
             "outlinewidth": 0,
             "ticks": ""
            },
            "type": "mesh3d"
           }
          ],
          "parcoords": [
           {
            "line": {
             "colorbar": {
              "outlinewidth": 0,
              "ticks": ""
             }
            },
            "type": "parcoords"
           }
          ],
          "pie": [
           {
            "automargin": true,
            "type": "pie"
           }
          ],
          "scatter": [
           {
            "marker": {
             "colorbar": {
              "outlinewidth": 0,
              "ticks": ""
             }
            },
            "type": "scatter"
           }
          ],
          "scatter3d": [
           {
            "line": {
             "colorbar": {
              "outlinewidth": 0,
              "ticks": ""
             }
            },
            "marker": {
             "colorbar": {
              "outlinewidth": 0,
              "ticks": ""
             }
            },
            "type": "scatter3d"
           }
          ],
          "scattercarpet": [
           {
            "marker": {
             "colorbar": {
              "outlinewidth": 0,
              "ticks": ""
             }
            },
            "type": "scattercarpet"
           }
          ],
          "scattergeo": [
           {
            "marker": {
             "colorbar": {
              "outlinewidth": 0,
              "ticks": ""
             }
            },
            "type": "scattergeo"
           }
          ],
          "scattergl": [
           {
            "marker": {
             "colorbar": {
              "outlinewidth": 0,
              "ticks": ""
             }
            },
            "type": "scattergl"
           }
          ],
          "scattermapbox": [
           {
            "marker": {
             "colorbar": {
              "outlinewidth": 0,
              "ticks": ""
             }
            },
            "type": "scattermapbox"
           }
          ],
          "scatterpolar": [
           {
            "marker": {
             "colorbar": {
              "outlinewidth": 0,
              "ticks": ""
             }
            },
            "type": "scatterpolar"
           }
          ],
          "scatterpolargl": [
           {
            "marker": {
             "colorbar": {
              "outlinewidth": 0,
              "ticks": ""
             }
            },
            "type": "scatterpolargl"
           }
          ],
          "scatterternary": [
           {
            "marker": {
             "colorbar": {
              "outlinewidth": 0,
              "ticks": ""
             }
            },
            "type": "scatterternary"
           }
          ],
          "surface": [
           {
            "colorbar": {
             "outlinewidth": 0,
             "ticks": ""
            },
            "colorscale": [
             [
              0,
              "#0d0887"
             ],
             [
              0.1111111111111111,
              "#46039f"
             ],
             [
              0.2222222222222222,
              "#7201a8"
             ],
             [
              0.3333333333333333,
              "#9c179e"
             ],
             [
              0.4444444444444444,
              "#bd3786"
             ],
             [
              0.5555555555555556,
              "#d8576b"
             ],
             [
              0.6666666666666666,
              "#ed7953"
             ],
             [
              0.7777777777777778,
              "#fb9f3a"
             ],
             [
              0.8888888888888888,
              "#fdca26"
             ],
             [
              1,
              "#f0f921"
             ]
            ],
            "type": "surface"
           }
          ],
          "table": [
           {
            "cells": {
             "fill": {
              "color": "#EBF0F8"
             },
             "line": {
              "color": "white"
             }
            },
            "header": {
             "fill": {
              "color": "#C8D4E3"
             },
             "line": {
              "color": "white"
             }
            },
            "type": "table"
           }
          ]
         },
         "layout": {
          "annotationdefaults": {
           "arrowcolor": "#2a3f5f",
           "arrowhead": 0,
           "arrowwidth": 1
          },
          "autotypenumbers": "strict",
          "coloraxis": {
           "colorbar": {
            "outlinewidth": 0,
            "ticks": ""
           }
          },
          "colorscale": {
           "diverging": [
            [
             0,
             "#8e0152"
            ],
            [
             0.1,
             "#c51b7d"
            ],
            [
             0.2,
             "#de77ae"
            ],
            [
             0.3,
             "#f1b6da"
            ],
            [
             0.4,
             "#fde0ef"
            ],
            [
             0.5,
             "#f7f7f7"
            ],
            [
             0.6,
             "#e6f5d0"
            ],
            [
             0.7,
             "#b8e186"
            ],
            [
             0.8,
             "#7fbc41"
            ],
            [
             0.9,
             "#4d9221"
            ],
            [
             1,
             "#276419"
            ]
           ],
           "sequential": [
            [
             0,
             "#0d0887"
            ],
            [
             0.1111111111111111,
             "#46039f"
            ],
            [
             0.2222222222222222,
             "#7201a8"
            ],
            [
             0.3333333333333333,
             "#9c179e"
            ],
            [
             0.4444444444444444,
             "#bd3786"
            ],
            [
             0.5555555555555556,
             "#d8576b"
            ],
            [
             0.6666666666666666,
             "#ed7953"
            ],
            [
             0.7777777777777778,
             "#fb9f3a"
            ],
            [
             0.8888888888888888,
             "#fdca26"
            ],
            [
             1,
             "#f0f921"
            ]
           ],
           "sequentialminus": [
            [
             0,
             "#0d0887"
            ],
            [
             0.1111111111111111,
             "#46039f"
            ],
            [
             0.2222222222222222,
             "#7201a8"
            ],
            [
             0.3333333333333333,
             "#9c179e"
            ],
            [
             0.4444444444444444,
             "#bd3786"
            ],
            [
             0.5555555555555556,
             "#d8576b"
            ],
            [
             0.6666666666666666,
             "#ed7953"
            ],
            [
             0.7777777777777778,
             "#fb9f3a"
            ],
            [
             0.8888888888888888,
             "#fdca26"
            ],
            [
             1,
             "#f0f921"
            ]
           ]
          },
          "colorway": [
           "#636efa",
           "#EF553B",
           "#00cc96",
           "#ab63fa",
           "#FFA15A",
           "#19d3f3",
           "#FF6692",
           "#B6E880",
           "#FF97FF",
           "#FECB52"
          ],
          "font": {
           "color": "#2a3f5f"
          },
          "geo": {
           "bgcolor": "white",
           "lakecolor": "white",
           "landcolor": "#E5ECF6",
           "showlakes": true,
           "showland": true,
           "subunitcolor": "white"
          },
          "hoverlabel": {
           "align": "left"
          },
          "hovermode": "closest",
          "mapbox": {
           "style": "light"
          },
          "paper_bgcolor": "white",
          "plot_bgcolor": "#E5ECF6",
          "polar": {
           "angularaxis": {
            "gridcolor": "white",
            "linecolor": "white",
            "ticks": ""
           },
           "bgcolor": "#E5ECF6",
           "radialaxis": {
            "gridcolor": "white",
            "linecolor": "white",
            "ticks": ""
           }
          },
          "scene": {
           "xaxis": {
            "backgroundcolor": "#E5ECF6",
            "gridcolor": "white",
            "gridwidth": 2,
            "linecolor": "white",
            "showbackground": true,
            "ticks": "",
            "zerolinecolor": "white"
           },
           "yaxis": {
            "backgroundcolor": "#E5ECF6",
            "gridcolor": "white",
            "gridwidth": 2,
            "linecolor": "white",
            "showbackground": true,
            "ticks": "",
            "zerolinecolor": "white"
           },
           "zaxis": {
            "backgroundcolor": "#E5ECF6",
            "gridcolor": "white",
            "gridwidth": 2,
            "linecolor": "white",
            "showbackground": true,
            "ticks": "",
            "zerolinecolor": "white"
           }
          },
          "shapedefaults": {
           "line": {
            "color": "#2a3f5f"
           }
          },
          "ternary": {
           "aaxis": {
            "gridcolor": "white",
            "linecolor": "white",
            "ticks": ""
           },
           "baxis": {
            "gridcolor": "white",
            "linecolor": "white",
            "ticks": ""
           },
           "bgcolor": "#E5ECF6",
           "caxis": {
            "gridcolor": "white",
            "linecolor": "white",
            "ticks": ""
           }
          },
          "title": {
           "x": 0.05
          },
          "xaxis": {
           "automargin": true,
           "gridcolor": "white",
           "linecolor": "white",
           "ticks": "",
           "title": {
            "standoff": 15
           },
           "zerolinecolor": "white",
           "zerolinewidth": 2
          },
          "yaxis": {
           "automargin": true,
           "gridcolor": "white",
           "linecolor": "white",
           "ticks": "",
           "title": {
            "standoff": 15
           },
           "zerolinecolor": "white",
           "zerolinewidth": 2
          }
         }
        },
        "violinmode": "group",
        "xaxis": {
         "anchor": "y",
         "domain": [
          0,
          1
         ],
         "title": {
          "text": "pk-state"
         }
        },
        "yaxis": {
         "anchor": "x",
         "domain": [
          0,
          1
         ],
         "title": {
          "text": "Accessible surface"
         }
        }
       }
      }
     },
     "metadata": {},
     "output_type": "display_data"
    }
   ],
   "source": [
    "import plotly.express as px\n",
    "\n",
    "fig = px.violin(\n",
    "    aa_df, \n",
    "    x=\"pk-state\", \n",
    "    y=\"Accessible surface\",\n",
    "    box=True,\n",
    "    points='all',\n",
    "    hover_name='1-letter code'\n",
    ")\n",
    "fig.show()"
   ]
  },
  {
   "cell_type": "code",
   "execution_count": null,
   "metadata": {},
   "outputs": [],
   "source": [
    "fig = px.strip(aa_df, x=\"Residue Weight\", y=\"hp_type\")\n",
    "fig.show()"
   ]
  },
  {
   "cell_type": "code",
   "execution_count": null,
   "metadata": {},
   "outputs": [],
   "source": [
    "fig = px.strip(aa_df, x=\"Residue Weight\", y=\"hp_type\", facet_col=\"pk-state\")\n",
    "fig.show()"
   ]
  },
  {
   "cell_type": "markdown",
   "metadata": {},
   "source": [
    "Plotly express references can be found [here](https://plotly.com/python/plotly-express) "
   ]
  },
  {
   "cell_type": "markdown",
   "metadata": {},
   "source": [
    "# Plotly graph_objects"
   ]
  },
  {
   "cell_type": "markdown",
   "metadata": {},
   "source": [
    "Enables plot combinations (e.g. bar + scatter), alternative y-axis (y_axis2) and indepth customizability. "
   ]
  },
  {
   "cell_type": "markdown",
   "metadata": {},
   "source": [
    "## Basic customizations"
   ]
  },
  {
   "cell_type": "code",
   "execution_count": null,
   "metadata": {
    "slideshow": {
     "slide_type": "slide"
    }
   },
   "outputs": [],
   "source": [
    "import plotly.graph_objects as go\n",
    "\n",
    "data = [\n",
    "    go.Bar(\n",
    "        x=aa_df[\"1-letter code\"],\n",
    "        y=aa_df.pka1\n",
    "    )\n",
    "]\n",
    "\n",
    "fig = go.Figure(data=data)\n",
    "fig.show()\n"
   ]
  },
  {
   "cell_type": "markdown",
   "metadata": {},
   "source": [
    "Yes, not looking too nice ..."
   ]
  },
  {
   "cell_type": "code",
   "execution_count": null,
   "metadata": {},
   "outputs": [],
   "source": [
    "fig.update_layout(template=\"seaborn\")\n",
    "fig.show()\n"
   ]
  },
  {
   "cell_type": "markdown",
   "metadata": {},
   "source": [
    "Plotly comes with a set up templates, yet you can customize every bit of it ..."
   ]
  },
  {
   "cell_type": "code",
   "execution_count": null,
   "metadata": {},
   "outputs": [],
   "source": [
    "import plotly.io as pio\n",
    "pio.templates"
   ]
  },
  {
   "cell_type": "code",
   "execution_count": null,
   "metadata": {},
   "outputs": [],
   "source": [
    "import plotly.graph_objects as go\n",
    "\n",
    "data = [\n",
    "    go.Bar(\n",
    "        x=aa_df[\"1-letter code\"],\n",
    "        y=aa_df[\"hydropathy index (Kyte-Doolittle method)\"]\n",
    "    )\n",
    "]\n",
    "\n",
    "fig = go.Figure(data=data, layout={\"template\": \"ggplot2\"})\n",
    "fig.show()\n",
    "\n"
   ]
  },
  {
   "cell_type": "code",
   "execution_count": null,
   "metadata": {
    "slideshow": {
     "slide_type": "slide"
    }
   },
   "outputs": [],
   "source": [
    "\n",
    "data = [\n",
    "    go.Bar(\n",
    "        x=aa_df[\"1-letter code\"],\n",
    "        y=aa_df[\"hydropathy index (Kyte-Doolittle method)\"],\n",
    "        marker_color=aa_df['hp_color']\n",
    "    )\n",
    "]\n",
    "\n",
    "fig = go.Figure(data=data)\n",
    "fig.update_layout(template=\"plotly_dark\", title=\"AA hydropathy index\")\n",
    "\n",
    "fig.show()\n",
    "\n"
   ]
  },
  {
   "cell_type": "markdown",
   "metadata": {},
   "source": [
    "Lets add more information to the hovertext!"
   ]
  },
  {
   "cell_type": "code",
   "execution_count": null,
   "metadata": {
    "slideshow": {
     "slide_type": "slide"
    }
   },
   "outputs": [],
   "source": [
    "\n",
    "data = [\n",
    "    go.Bar(\n",
    "        x=aa_df[\"1-letter code\"],\n",
    "        y=aa_df[\"hydropathy index (Kyte-Doolittle method)\"],\n",
    "        marker_color=aa_df['hp_color'],\n",
    "        text=\"Name:\" + aa_df['Name'] + \"<br />\" +\\\n",
    "            \"Weight:\" + aa_df['Residue Weight'].astype(str) + \"<br />\" +\\\n",
    "            \"Formula:\" + aa_df['Residue Formula']\n",
    "            \n",
    "\n",
    "    )\n",
    "]\n",
    "\n",
    "fig = go.Figure(data=data)\n",
    "fig.update_layout(template=\"plotly_dark\", title=\"AA hydropathy index\")\n",
    "\n",
    "fig.show()\n",
    "\n"
   ]
  },
  {
   "cell_type": "markdown",
   "metadata": {
    "slideshow": {
     "slide_type": "slide"
    }
   },
   "source": [
    "Let's sort and group! - don't worry we will cover pandas in the second week"
   ]
  },
  {
   "cell_type": "code",
   "execution_count": null,
   "metadata": {},
   "outputs": [],
   "source": [
    "aa_df.sort_values([\"hydropathy index (Kyte-Doolittle method)\"], inplace=True)"
   ]
  },
  {
   "cell_type": "code",
   "execution_count": null,
   "metadata": {
    "slideshow": {
     "slide_type": "subslide"
    }
   },
   "outputs": [],
   "source": [
    "\n",
    "data = [\n",
    "    go.Bar(\n",
    "        x=aa_df[\"1-letter code\"],\n",
    "        y=aa_df[\"hydropathy index (Kyte-Doolittle method)\"],\n",
    "        marker_color=aa_df['hp_color'],\n",
    "        text=\"Name:\" + aa_df['Name'] + \"<br />\" +\\\n",
    "            \"Weight:\" + aa_df['Residue Weight'].astype(str) + \"<br />\" +\\\n",
    "            \"Formula:\" + aa_df['Residue Formula']\n",
    "            \n",
    "\n",
    "    )\n",
    "]\n",
    "\n",
    "fig = go.Figure(data=data)\n",
    "fig.update_layout(template=\"plotly_dark\", title=\"AA hydropathy index\")\n",
    "\n",
    "fig.show()\n",
    "\n"
   ]
  },
  {
   "cell_type": "markdown",
   "metadata": {
    "slideshow": {
     "slide_type": "slide"
    }
   },
   "source": [
    "Group data into legendgroups"
   ]
  },
  {
   "cell_type": "code",
   "execution_count": 1,
   "metadata": {
    "slideshow": {
     "slide_type": "-"
    }
   },
   "outputs": [
    {
     "ename": "NameError",
     "evalue": "name 'aa_df' is not defined",
     "output_type": "error",
     "traceback": [
      "\u001b[1;31m---------------------------------------------------------------------------\u001b[0m",
      "\u001b[1;31mNameError\u001b[0m                                 Traceback (most recent call last)",
      "\u001b[1;32m~\\AppData\\Local\\Temp/ipykernel_6692/4247138882.py\u001b[0m in \u001b[0;36m<module>\u001b[1;34m\u001b[0m\n\u001b[0;32m      1\u001b[0m \u001b[0mdata\u001b[0m \u001b[1;33m=\u001b[0m \u001b[1;33m[\u001b[0m\u001b[1;33m]\u001b[0m\u001b[1;33m\u001b[0m\u001b[1;33m\u001b[0m\u001b[0m\n\u001b[1;32m----> 2\u001b[1;33m \u001b[1;32mfor\u001b[0m \u001b[0mhp_type\u001b[0m \u001b[1;32min\u001b[0m \u001b[0maa_df\u001b[0m\u001b[1;33m[\u001b[0m\u001b[1;34m'hp_type'\u001b[0m\u001b[1;33m]\u001b[0m\u001b[1;33m.\u001b[0m\u001b[0munique\u001b[0m\u001b[1;33m(\u001b[0m\u001b[1;33m)\u001b[0m\u001b[1;33m:\u001b[0m\u001b[1;33m\u001b[0m\u001b[1;33m\u001b[0m\u001b[0m\n\u001b[0m\u001b[0;32m      3\u001b[0m     \u001b[0mselected_df\u001b[0m \u001b[1;33m=\u001b[0m \u001b[0maa_df\u001b[0m\u001b[1;33m[\u001b[0m\u001b[0maa_df\u001b[0m\u001b[1;33m[\u001b[0m\u001b[1;34m'hp_type'\u001b[0m\u001b[1;33m]\u001b[0m \u001b[1;33m==\u001b[0m \u001b[0mhp_type\u001b[0m\u001b[1;33m]\u001b[0m\u001b[1;33m\u001b[0m\u001b[1;33m\u001b[0m\u001b[0m\n\u001b[0;32m      4\u001b[0m     data.append(\n\u001b[0;32m      5\u001b[0m         go.Bar(\n",
      "\u001b[1;31mNameError\u001b[0m: name 'aa_df' is not defined"
     ]
    }
   ],
   "source": [
    "data = []\n",
    "for hp_type in aa_df['hp_type'].unique():\n",
    "    selected_df = aa_df[aa_df['hp_type'] == hp_type]\n",
    "    data.append(\n",
    "        go.Bar(\n",
    "            x=selected_df[\"1-letter code\"],\n",
    "            y=selected_df[\"hydropathy index (Kyte-Doolittle method)\"],\n",
    "            legendgroup=hp_type,\n",
    "            name=hp_type,\n",
    "            \n",
    "        )\n",
    "    )\n",
    "\n",
    "fig = go.Figure(data=data)\n",
    "fig.update_layout(template=\"plotly_dark\", title=\"Amino acid accessible surface\")\n",
    "fig.show()"
   ]
  },
  {
   "cell_type": "markdown",
   "metadata": {
    "slideshow": {
     "slide_type": "slide"
    }
   },
   "source": [
    "## Pie chart"
   ]
  },
  {
   "cell_type": "code",
   "execution_count": null,
   "metadata": {
    "slideshow": {
     "slide_type": "-"
    }
   },
   "outputs": [],
   "source": [
    "import plotly.graph_objects as go\n",
    "\n",
    "data = [\n",
    "    go.Pie(\n",
    "        labels=aa_df[\"1-letter code\"],\n",
    "        values=aa_df[\"Accessible surface\"],\n",
    "        hole=0.3,\n",
    "    )\n",
    "]\n",
    "\n",
    "fig = go.Figure(data=data)\n",
    "fig.update_layout(template=\"plotly_dark\", title=\"Amino acid accessible surface\")\n",
    "fig.show()\n",
    "\n"
   ]
  },
  {
   "cell_type": "markdown",
   "metadata": {
    "slideshow": {
     "slide_type": "slide"
    }
   },
   "source": [
    "## Bubble chart - Scatter including size dimension - encoding 3 dimensions"
   ]
  },
  {
   "cell_type": "code",
   "execution_count": null,
   "metadata": {
    "slideshow": {
     "slide_type": "-"
    }
   },
   "outputs": [],
   "source": [
    "import numpy as np\n",
    "data = [\n",
    "    go.Scatter(\n",
    "        x=aa_df[\"1-letter code\"],\n",
    "        y=aa_df[\"hydropathy index (Kyte-Doolittle method)\"],\n",
    "        mode=\"markers\",\n",
    "        marker={\n",
    "            \"size\": aa_df[\"Accessible surface\"],\n",
    "            \"color\":aa_df['hp_color'],\n",
    "        }\n",
    "    )\n",
    "]\n",
    "\n",
    "fig = go.Figure(data=data)\n",
    "fig.update_layout(\n",
    "    template=\"plotly_dark\", \n",
    "    title=\"Amino acid accessible surface\",\n",
    "    xaxis_title=\"Amino acid [1 letter code]\",\n",
    "    yaxis_title=\"hydropathy index (Kyte-Doolittle method)\",\n",
    "\n",
    ")\n",
    "\n",
    "fig.show()"
   ]
  },
  {
   "cell_type": "code",
   "execution_count": null,
   "metadata": {
    "slideshow": {
     "slide_type": "slide"
    }
   },
   "outputs": [],
   "source": [
    "import numpy as np\n",
    "data = [\n",
    "    go.Scatter(\n",
    "        x=aa_df[\"1-letter code\"],\n",
    "        y=aa_df[\"hydropathy index (Kyte-Doolittle method)\"],\n",
    "        mode=\"markers\",\n",
    "        marker={\n",
    "            \"size\": aa_df[\"Accessible surface\"],\n",
    "            \"color\":aa_df['hp_color'],\n",
    "        }\n",
    "    )\n",
    "]\n",
    "\n",
    "fig = go.Figure(data=data)\n",
    "fig.update_layout(\n",
    "    template=\"plotly_dark\", \n",
    "    title=\"Amino acid accessible surface\",\n",
    "    xaxis={\n",
    "        \"title\":\"Amino acid [1 letter code]\",\n",
    "        \"tickfont\": {\n",
    "            \"size\":12,\n",
    "            \"color\": \"grey\"\n",
    "        },\n",
    "        \"tickangle\": 45\n",
    "    },\n",
    "    yaxis_title=\"hydropathy index (Kyte-Doolittle method)\",\n",
    "\n",
    ")\n",
    "\n",
    "fig.show()\n"
   ]
  },
  {
   "cell_type": "markdown",
   "metadata": {},
   "source": [
    "## Structuring plots"
   ]
  },
  {
   "cell_type": "markdown",
   "metadata": {},
   "source": [
    "Data is a list of graph objects. Can be combination of different types."
   ]
  },
  {
   "cell_type": "code",
   "execution_count": null,
   "metadata": {
    "slideshow": {
     "slide_type": "slide"
    }
   },
   "outputs": [],
   "source": [
    "\n",
    "data = [\n",
    "    go.Bar(\n",
    "        x=aa_df[\"1-letter code\"],\n",
    "        y=aa_df.pka1,\n",
    "        hovertext=aa_df[\"Name\"],\n",
    "        name=\"pka1\"\n",
    "    ),\n",
    "    go.Bar(\n",
    "        x=aa_df[\"1-letter code\"],\n",
    "        y=aa_df.pka2,\n",
    "        hovertext=aa_df[\"Name\"],\n",
    "        name=\"pka2\"\n",
    "    ),\n",
    "    go.Bar(\n",
    "        x=aa_df[\"1-letter code\"],\n",
    "        y=aa_df.pkaX,\n",
    "        hovertext=aa_df[\"Name\"],\n",
    "        name=\"pkaX\"\n",
    "    ),\n",
    "    go.Bar(\n",
    "        x=aa_df[\"1-letter code\"],\n",
    "        y=aa_df.pI,\n",
    "        hovertext=aa_df[\"Name\"],\n",
    "        name=\"pI\"\n",
    "    )\n",
    "\n",
    "]"
   ]
  },
  {
   "cell_type": "markdown",
   "metadata": {},
   "source": [
    "For reusability, layouts can be defined in dicts.\\\n",
    "These dicts can even be inherited or selectively updated - templating! :)"
   ]
  },
  {
   "cell_type": "code",
   "execution_count": null,
   "metadata": {
    "slideshow": {
     "slide_type": "slide"
    }
   },
   "outputs": [],
   "source": [
    "layout = {\n",
    "    \"title\": {\n",
    "        \"text\": \"amino acid pks\",\n",
    "        \"font_family\": \"Courier\",\n",
    "        \"font_size\": 30,\n",
    "    },\n",
    "    \"template\" : \"plotly_dark\", \n",
    "    \"yaxis\": {\n",
    "        \"showgrid\": True,\n",
    "        \"gridwidth\": 1,\n",
    "        \"gridcolor\": \"rgba(100, 30, 30, 0.8)\",\n",
    "        \"color\": \"rgba(200,10,10,1)\",\n",
    "        \"ticks\": \"outside\",\n",
    "        \"tickvals\": [1, 5, 10],\n",
    "        \"title\": {\n",
    "            \"text\": \"pka\",\n",
    "            \"font_family\": \"Courier\",\n",
    "        },\n",
    "        \"showline\": True,\n",
    "        \"linewidth\": 1,\n",
    "        \"linecolor\": \"rgba(70, 10, 10, 0.8)\",\n",
    "        \"mirror\": True,\n",
    "#         \"type\": \"log\"\n",
    "    }\n",
    "}\n"
   ]
  },
  {
   "cell_type": "markdown",
   "metadata": {},
   "source": [
    "Putting things together!"
   ]
  },
  {
   "cell_type": "code",
   "execution_count": null,
   "metadata": {},
   "outputs": [],
   "source": [
    "fig = go.Figure(data=data, layout=layout)\n",
    "fig.show()"
   ]
  },
  {
   "cell_type": "markdown",
   "metadata": {
    "slideshow": {
     "slide_type": "subslide"
    }
   },
   "source": [
    "more details about axis can be found [here](https://plot.ly/python/axes/)\n",
    "\n",
    "Plot examples can be found [here](https://plot.ly/python/)"
   ]
  },
  {
   "cell_type": "markdown",
   "metadata": {},
   "source": [
    "# Geo plotting"
   ]
  },
  {
   "cell_type": "code",
   "execution_count": null,
   "metadata": {},
   "outputs": [],
   "source": [
    "df = pd.read_csv('../data/cities.csv')\n",
    "df.head()"
   ]
  },
  {
   "cell_type": "code",
   "execution_count": null,
   "metadata": {},
   "outputs": [],
   "source": [
    "df.columns"
   ]
  },
  {
   "cell_type": "code",
   "execution_count": null,
   "metadata": {},
   "outputs": [],
   "source": [
    "df.shape"
   ]
  },
  {
   "cell_type": "code",
   "execution_count": null,
   "metadata": {},
   "outputs": [],
   "source": [
    "fig = px.density_mapbox(\n",
    "    df, \n",
    "    lat='lat', \n",
    "    lon='lng', \n",
    "    z='population', \n",
    "    radius=10,\n",
    "    center=dict(lat=0, lon=180), \n",
    "    zoom=0,\n",
    "    mapbox_style=\"stamen-terrain\"\n",
    ")\n",
    "fig.show()\n"
   ]
  },
  {
   "cell_type": "code",
   "execution_count": null,
   "metadata": {},
   "outputs": [],
   "source": [
    "df.continent.fillna(\"\", inplace=True)"
   ]
  },
  {
   "cell_type": "code",
   "execution_count": null,
   "metadata": {},
   "outputs": [],
   "source": [
    "fig = px.box(\n",
    "    df, \n",
    "    x=\"continent\", \n",
    "    y=\"population\",\n",
    "    log_y=True,\n",
    "    hover_data=df.columns,\n",
    ")\n",
    "fig.show()"
   ]
  },
  {
   "cell_type": "markdown",
   "metadata": {},
   "source": [
    "## Questions ?\n",
    "\n",
    "## Let's plot something\n",
    "\n",
    "Anyone go ahead, take the amino_acid_visualization and plot something!"
   ]
  }
 ],
 "metadata": {
  "celltoolbar": "Slideshow",
  "interpreter": {
   "hash": "1db61796eef522af4c3bfa7a1992d331ca5efcfc6f3218f7d019c02f1fab5e13"
  },
  "kernelspec": {
   "display_name": "Python 3.7.9 64-bit ('.venv': venv)",
   "name": "python3"
  },
  "language_info": {
   "codemirror_mode": {
    "name": "ipython",
    "version": 3
   },
   "file_extension": ".py",
   "mimetype": "text/x-python",
   "name": "python",
   "nbconvert_exporter": "python",
   "pygments_lexer": "ipython3",
   "version": "3.9.7"
  }
 },
 "nbformat": 4,
 "nbformat_minor": 2
}
